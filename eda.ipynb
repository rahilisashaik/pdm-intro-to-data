{
 "cells": [
  {
   "cell_type": "markdown",
   "metadata": {},
   "source": [
    "# Sp25 PDM Intro to Data\n",
    "Built and presented by Shivani Sahni and Rahil Shaik\n",
    "\n",
    "March 19th 2025"
   ]
  },
  {
   "cell_type": "markdown",
   "metadata": {},
   "source": [
    "### Section 1: Introduction to Jupyter Notebooks\n",
    "\n",
    "#### 1.1: Introduction to Jupyter Notebooks:\n",
    "Jupyter Notebooks are interactive documents that combine code, text, and visualizations, making them ideal for data analysis and teaching.​ These are commonplace in research, machine learning, and quantitative finance settings to perform exploratory data work. It enables us to run different experiments to see how we can improve a model's performance in a streamlined and convenient manner.\n",
    "\n",
    "#### 1.2: Operating a Jupyter Notebook:\n",
    "\n",
    "- Running Cells: Each notebook consists of cells that can contain code or text. To execute a code cell, click on it and press `Shift + Enter`. There is also a button when you hover a cell that resembles a play button that allows you to run the cell. \n",
    "\n",
    "- Creating Cells: You can make two types of cells in python notebooks: markdown and code. Markdowns are generally used to add explanatory text around your code cells. Code cells are used for... coding! There are options at the top taskbar to choose between markdown and code. If you double clik into this cell you can see the scripting for this markdown! \n",
    "\n",
    "#### 1.3: Understanding how Kernel's work\n",
    "A kernel is the computational engine that executes the code in the notebook. We will select a python kernel to execute the cells in this python notebook. If the kernel stops or \"dies\", you can restart it with the above taskbar using 'Kernel' > 'Restart'.\n"
   ]
  },
  {
   "cell_type": "markdown",
   "metadata": {},
   "source": [
    "### Section 2: Python and Pandas Basics\n",
    "\n",
    "#### 2.1: Setting up your Python environment\n",
    "There are a few options here including installing Python to your local system, creating a Python virtual environment (venv, conda). Today we will create a python venv virtual environment because they are genearlly lightweight and a major advantage being that you can create isolated environments that use different versions of libraries or Python itself.\n",
    "\n",
    "If you are using macOS, you need to install Homebrew, which helps manage packages easily (I think you guys all have macOS). Access your terminal and run the below commands:\n",
    "\n",
    "`/bin/bash -c \"$(curl -fsSL https://raw.githubusercontent.com/Homebrew/install/HEAD/install.sh)\"`\n",
    "\n",
    "`echo 'eval \"$(/opt/homebrew/bin/brew shellenv)\"' >> ~/.zprofile`\n",
    "\n",
    "`eval \"$(/opt/homebrew/bin/brew shellenv)\" `\n",
    "\n",
    "To ensure you have installed brew, run this command\n",
    "\n",
    "`brew --version`\n",
    "\n",
    "Then install python\n",
    "\n",
    "`brew install python`\n",
    "\n",
    "And check if it is installed with\n",
    "\n",
    "`python3 --version`\n",
    "\n",
    "`pip --version`\n",
    "\n",
    "Pip is a package manger, if any point you get `ModuleNotFoundError`, you can use pip to install those packages. I have listed the package requirements for this project in the 'requirements.txt' file, we can use pip to install them. \n",
    "\n",
    "`pip3 install -r requirements.txt`\n",
    "\n",
    "Now we can create a python virtual environment for this project using the below commands\n",
    "\n",
    "`python -m venv pdmdata` or `python3 -m venv pdmdata`\n",
    "\n",
    "`source pdmdata/bin/activate`\n",
    "\n",
    "\n",
    "Now you're ready to start coding!\n"
   ]
  },
  {
   "cell_type": "markdown",
   "metadata": {},
   "source": [
    "#### 2.2: Basics of Python\n",
    "\n",
    "First we'll talk about variables, variable types, and how python interprets and stores data."
   ]
  },
  {
   "cell_type": "code",
   "execution_count": 50,
   "metadata": {},
   "outputs": [],
   "source": [
    "# these are a bunch of package imports, the great thing about coding in 2025 is the grunt work is \n",
    "# almost always done for you so you can just import packages that do tasks for you\n",
    "\n",
    "import pandas as pd\n",
    "import numpy as np\n",
    "import matplotlib.pyplot as plt\n",
    "from sklearn.model_selection import train_test_split\n",
    "from sklearn.linear_model import LinearRegression\n",
    "from sklearn.metrics import r2_score, mean_absolute_error, mean_squared_error\n",
    "from sklearn.ensemble import RandomForestRegressor\n",
    "from sklearn.cluster import KMeans\n",
    "import seaborn as sns\n",
    "import util"
   ]
  },
  {
   "cell_type": "code",
   "execution_count": 13,
   "metadata": {},
   "outputs": [
    {
     "name": "stdout",
     "output_type": "stream",
     "text": [
      "10\n"
     ]
    }
   ],
   "source": [
    "# Integer\n",
    "x = 10  \n",
    "print(x)"
   ]
  },
  {
   "cell_type": "code",
   "execution_count": 14,
   "metadata": {},
   "outputs": [
    {
     "name": "stdout",
     "output_type": "stream",
     "text": [
      "10.5\n"
     ]
    }
   ],
   "source": [
    "# Float\n",
    "y = 10.5  \n",
    "print(y)  # <class 'float'>"
   ]
  },
  {
   "cell_type": "code",
   "execution_count": 15,
   "metadata": {},
   "outputs": [
    {
     "name": "stdout",
     "output_type": "stream",
     "text": [
      "Leponda\n"
     ]
    }
   ],
   "source": [
    "# String\n",
    "name = \"Leponda\"\n",
    "print(name)  # <class 'str'>"
   ]
  },
  {
   "cell_type": "code",
   "execution_count": 16,
   "metadata": {},
   "outputs": [
    {
     "name": "stdout",
     "output_type": "stream",
     "text": [
      "True\n"
     ]
    }
   ],
   "source": [
    "# Boolean\n",
    "is_student = True\n",
    "print(is_student)  # <class 'bool'>"
   ]
  },
  {
   "cell_type": "code",
   "execution_count": 24,
   "metadata": {},
   "outputs": [
    {
     "name": "stdout",
     "output_type": "stream",
     "text": [
      "['gurnoor', 'arjun', 'sarah', 'katie', 'sadie', 'aathma', 'jay']\n",
      "[4, 4, -1, 8, 16, 4, 4]\n"
     ]
    }
   ],
   "source": [
    "pledges = [\"gurnoor\", \"arjun\", \"sarah\", \"katie\", \"sadie\", \"aathma\", \"jay\"]\n",
    "pledge_points = [4, 4, -1, 8, 16, 4, 4] # as of 03/17 at 7:21 PM\n",
    "\n",
    "print(pledges)  # <class 'list'>\n",
    "print(pledge_points)  # <class 'list'>"
   ]
  },
  {
   "cell_type": "code",
   "execution_count": 25,
   "metadata": {},
   "outputs": [
    {
     "name": "stdout",
     "output_type": "stream",
     "text": [
      "{'top_pledge': 'rahil', 'bottom_pledge': 'shivani'}\n"
     ]
    }
   ],
   "source": [
    "# Dictionary (key-value pairs)\n",
    "trash_pledge_leaderboard = {\"top_pledge\": \"rahil\", \"bottom_pledge\": \"shivani\"}\n",
    "print(trash_pledge_leaderboard)  # <class 'dict'>"
   ]
  },
  {
   "cell_type": "markdown",
   "metadata": {},
   "source": [
    "This doesn't look right, let's use the lists we created and update the dictionary with the correct pledge and pledge points."
   ]
  },
  {
   "cell_type": "code",
   "execution_count": 26,
   "metadata": {},
   "outputs": [
    {
     "name": "stdout",
     "output_type": "stream",
     "text": [
      "{'gurnoor': 4, 'arjun': 4, 'sarah': -1, 'katie': 8, 'sadie': 16, 'aathma': 4, 'jay': 4}\n"
     ]
    }
   ],
   "source": [
    "pledge_to_points = zip(pledges, pledge_points)\n",
    "pledge_leaderboard = dict(pledge_to_points)\n",
    "\n",
    "print(pledge_leaderboard)"
   ]
  },
  {
   "cell_type": "markdown",
   "metadata": {},
   "source": [
    "Let's use some python syntax to return the top and bottom pledge. We'll start with a brief overview of for loops and if statements in python."
   ]
  },
  {
   "cell_type": "code",
   "execution_count": 43,
   "metadata": {},
   "outputs": [
    {
     "name": "stdout",
     "output_type": "stream",
     "text": [
      "gurnoor\n",
      "arjun\n",
      "sarah\n",
      "katie\n",
      "sadie\n",
      "aathma\n",
      "jay\n"
     ]
    }
   ],
   "source": [
    "for pledge in pledges:\n",
    "    print(pledge)"
   ]
  },
  {
   "cell_type": "code",
   "execution_count": 44,
   "metadata": {},
   "outputs": [
    {
     "name": "stdout",
     "output_type": "stream",
     "text": [
      "gurnoor\n",
      "arjun\n",
      "sarah\n",
      "katie\n",
      "sadie\n",
      "aathma\n",
      "jay\n"
     ]
    }
   ],
   "source": [
    "for i in range(len(pledges)):\n",
    "    print(pledges[i])"
   ]
  },
  {
   "cell_type": "code",
   "execution_count": 47,
   "metadata": {},
   "outputs": [
    {
     "name": "stdout",
     "output_type": "stream",
     "text": [
      "The pledges doing above average are katie\n",
      "The pledges doing above average are sadie\n"
     ]
    }
   ],
   "source": [
    "for pledge, points in pledge_leaderboard.items():\n",
    "    if points > np.mean(pledge_points):\n",
    "        print(\"The pledges doing above average are\", pledge)\n",
    "        "
   ]
  },
  {
   "cell_type": "code",
   "execution_count": 48,
   "metadata": {},
   "outputs": [],
   "source": [
    "least_points = float('inf')\n",
    "most_points = float('-inf')\n",
    "\n",
    "bottom_pledge = \"\"\n",
    "top_pledge = \"\"\n",
    "\n",
    "for pledge, points in pledge_leaderboard.items():\n",
    "    if points < least_points:\n",
    "        least_points = points\n",
    "        bottom_pledge = pledge\n",
    "        \n",
    "    if points > most_points:\n",
    "        most_points = points\n",
    "        top_pledge = pledge"
   ]
  },
  {
   "cell_type": "code",
   "execution_count": 49,
   "metadata": {},
   "outputs": [
    {
     "name": "stdout",
     "output_type": "stream",
     "text": [
      "top pledge is sadie with 16 points\n",
      "bottom pledge is sarah with -1 points\n"
     ]
    }
   ],
   "source": [
    "print(\"top pledge is\", top_pledge, \"with\", pledge_leaderboard[top_pledge], \"points\")\n",
    "print(\"bottom pledge is\", bottom_pledge, \"with\", pledge_leaderboard[bottom_pledge], \"points\")"
   ]
  },
  {
   "cell_type": "markdown",
   "metadata": {},
   "source": [
    "#### 2.3: Using Pandas for Exploratory Data Analysis\n",
    "We will use a data set from sklearn to practice about california housing, pandas enables us to read this information in as a 'dataframe'."
   ]
  },
  {
   "cell_type": "code",
   "execution_count": null,
   "metadata": {},
   "outputs": [],
   "source": [
    "from sklearn.datasets import fetch_california_housing"
   ]
  },
  {
   "cell_type": "code",
   "execution_count": 51,
   "metadata": {},
   "outputs": [],
   "source": [
    "california = fetch_california_housing()\n",
    "df = pd.DataFrame(california.data, columns=california.feature_names)"
   ]
  },
  {
   "cell_type": "markdown",
   "metadata": {},
   "source": [
    "Use `.head()` to get the first 5 rows of your data frame"
   ]
  },
  {
   "cell_type": "code",
   "execution_count": 58,
   "metadata": {},
   "outputs": [
    {
     "data": {
      "text/html": [
       "<div>\n",
       "<style scoped>\n",
       "    .dataframe tbody tr th:only-of-type {\n",
       "        vertical-align: middle;\n",
       "    }\n",
       "\n",
       "    .dataframe tbody tr th {\n",
       "        vertical-align: top;\n",
       "    }\n",
       "\n",
       "    .dataframe thead th {\n",
       "        text-align: right;\n",
       "    }\n",
       "</style>\n",
       "<table border=\"1\" class=\"dataframe\">\n",
       "  <thead>\n",
       "    <tr style=\"text-align: right;\">\n",
       "      <th></th>\n",
       "      <th>MedInc</th>\n",
       "      <th>HouseAge</th>\n",
       "      <th>AveRooms</th>\n",
       "      <th>AveBedrms</th>\n",
       "      <th>Population</th>\n",
       "      <th>AveOccup</th>\n",
       "      <th>Latitude</th>\n",
       "      <th>Longitude</th>\n",
       "      <th>PRICE</th>\n",
       "    </tr>\n",
       "  </thead>\n",
       "  <tbody>\n",
       "    <tr>\n",
       "      <th>0</th>\n",
       "      <td>8.3252</td>\n",
       "      <td>41.0</td>\n",
       "      <td>6.984127</td>\n",
       "      <td>1.02381</td>\n",
       "      <td>322.0</td>\n",
       "      <td>2.555556</td>\n",
       "      <td>37.88</td>\n",
       "      <td>-122.23</td>\n",
       "      <td>4.526</td>\n",
       "    </tr>\n",
       "    <tr>\n",
       "      <th>1</th>\n",
       "      <td>8.3014</td>\n",
       "      <td>21.0</td>\n",
       "      <td>6.238137</td>\n",
       "      <td>0.97188</td>\n",
       "      <td>2401.0</td>\n",
       "      <td>2.109842</td>\n",
       "      <td>37.86</td>\n",
       "      <td>-122.22</td>\n",
       "      <td>3.585</td>\n",
       "    </tr>\n",
       "  </tbody>\n",
       "</table>\n",
       "</div>"
      ],
      "text/plain": [
       "   MedInc  HouseAge  AveRooms  AveBedrms  Population  AveOccup  Latitude  \\\n",
       "0  8.3252      41.0  6.984127    1.02381       322.0  2.555556     37.88   \n",
       "1  8.3014      21.0  6.238137    0.97188      2401.0  2.109842     37.86   \n",
       "\n",
       "   Longitude  PRICE  \n",
       "0    -122.23  4.526  \n",
       "1    -122.22  3.585  "
      ]
     },
     "execution_count": 58,
     "metadata": {},
     "output_type": "execute_result"
    }
   ],
   "source": [
    "df.head(2)"
   ]
  },
  {
   "cell_type": "markdown",
   "metadata": {},
   "source": [
    "A few operations on the dataframe you can use to extract information"
   ]
  },
  {
   "cell_type": "code",
   "execution_count": 59,
   "metadata": {},
   "outputs": [
    {
     "name": "stdout",
     "output_type": "stream",
     "text": [
      "<class 'pandas.core.frame.DataFrame'>\n",
      "RangeIndex: 20640 entries, 0 to 20639\n",
      "Data columns (total 9 columns):\n",
      " #   Column      Non-Null Count  Dtype  \n",
      "---  ------      --------------  -----  \n",
      " 0   MedInc      20640 non-null  float64\n",
      " 1   HouseAge    20640 non-null  float64\n",
      " 2   AveRooms    20640 non-null  float64\n",
      " 3   AveBedrms   20640 non-null  float64\n",
      " 4   Population  20640 non-null  float64\n",
      " 5   AveOccup    20640 non-null  float64\n",
      " 6   Latitude    20640 non-null  float64\n",
      " 7   Longitude   20640 non-null  float64\n",
      " 8   PRICE       20640 non-null  float64\n",
      "dtypes: float64(9)\n",
      "memory usage: 1.4 MB\n"
     ]
    },
    {
     "data": {
      "text/plain": [
       "Index(['MedInc', 'HouseAge', 'AveRooms', 'AveBedrms', 'Population', 'AveOccup',\n",
       "       'Latitude', 'Longitude', 'PRICE'],\n",
       "      dtype='object')"
      ]
     },
     "execution_count": 59,
     "metadata": {},
     "output_type": "execute_result"
    }
   ],
   "source": [
    "df.head()  # Show first 5 rows\n",
    "df.tail(3)  # Show last 3 rows\n",
    "df.info()  # Get information about the DataFrame\n",
    "df.describe()  # Summary statistics for numerical columns\n",
    "df.shape  # Get number of rows and columns\n",
    "df.columns  # List column names"
   ]
  },
  {
   "cell_type": "markdown",
   "metadata": {},
   "source": [
    "You can reference specific column names using brackets"
   ]
  },
  {
   "cell_type": "code",
   "execution_count": 61,
   "metadata": {},
   "outputs": [
    {
     "data": {
      "text/html": [
       "<div>\n",
       "<style scoped>\n",
       "    .dataframe tbody tr th:only-of-type {\n",
       "        vertical-align: middle;\n",
       "    }\n",
       "\n",
       "    .dataframe tbody tr th {\n",
       "        vertical-align: top;\n",
       "    }\n",
       "\n",
       "    .dataframe thead th {\n",
       "        text-align: right;\n",
       "    }\n",
       "</style>\n",
       "<table border=\"1\" class=\"dataframe\">\n",
       "  <thead>\n",
       "    <tr style=\"text-align: right;\">\n",
       "      <th></th>\n",
       "      <th>MedInc</th>\n",
       "      <th>PRICE</th>\n",
       "    </tr>\n",
       "  </thead>\n",
       "  <tbody>\n",
       "    <tr>\n",
       "      <th>0</th>\n",
       "      <td>8.3252</td>\n",
       "      <td>4.526</td>\n",
       "    </tr>\n",
       "    <tr>\n",
       "      <th>1</th>\n",
       "      <td>8.3014</td>\n",
       "      <td>3.585</td>\n",
       "    </tr>\n",
       "    <tr>\n",
       "      <th>2</th>\n",
       "      <td>7.2574</td>\n",
       "      <td>3.521</td>\n",
       "    </tr>\n",
       "    <tr>\n",
       "      <th>3</th>\n",
       "      <td>5.6431</td>\n",
       "      <td>3.413</td>\n",
       "    </tr>\n",
       "    <tr>\n",
       "      <th>4</th>\n",
       "      <td>3.8462</td>\n",
       "      <td>3.422</td>\n",
       "    </tr>\n",
       "    <tr>\n",
       "      <th>...</th>\n",
       "      <td>...</td>\n",
       "      <td>...</td>\n",
       "    </tr>\n",
       "    <tr>\n",
       "      <th>20635</th>\n",
       "      <td>1.5603</td>\n",
       "      <td>0.781</td>\n",
       "    </tr>\n",
       "    <tr>\n",
       "      <th>20636</th>\n",
       "      <td>2.5568</td>\n",
       "      <td>0.771</td>\n",
       "    </tr>\n",
       "    <tr>\n",
       "      <th>20637</th>\n",
       "      <td>1.7000</td>\n",
       "      <td>0.923</td>\n",
       "    </tr>\n",
       "    <tr>\n",
       "      <th>20638</th>\n",
       "      <td>1.8672</td>\n",
       "      <td>0.847</td>\n",
       "    </tr>\n",
       "    <tr>\n",
       "      <th>20639</th>\n",
       "      <td>2.3886</td>\n",
       "      <td>0.894</td>\n",
       "    </tr>\n",
       "  </tbody>\n",
       "</table>\n",
       "<p>20640 rows × 2 columns</p>\n",
       "</div>"
      ],
      "text/plain": [
       "       MedInc  PRICE\n",
       "0      8.3252  4.526\n",
       "1      8.3014  3.585\n",
       "2      7.2574  3.521\n",
       "3      5.6431  3.413\n",
       "4      3.8462  3.422\n",
       "...       ...    ...\n",
       "20635  1.5603  0.781\n",
       "20636  2.5568  0.771\n",
       "20637  1.7000  0.923\n",
       "20638  1.8672  0.847\n",
       "20639  2.3886  0.894\n",
       "\n",
       "[20640 rows x 2 columns]"
      ]
     },
     "execution_count": 61,
     "metadata": {},
     "output_type": "execute_result"
    }
   ],
   "source": [
    "df[\"MedInc\"]  # Select a single column (returns a Series)\n",
    "df[[\"MedInc\", \"PRICE\"]]  # Select multiple columns"
   ]
  },
  {
   "cell_type": "markdown",
   "metadata": {},
   "source": [
    "There are two methods to access specific partitions of the dataframe in pandas including `.query()` and bracket notation"
   ]
  },
  {
   "cell_type": "code",
   "execution_count": 56,
   "metadata": {},
   "outputs": [
    {
     "data": {
      "text/html": [
       "<div>\n",
       "<style scoped>\n",
       "    .dataframe tbody tr th:only-of-type {\n",
       "        vertical-align: middle;\n",
       "    }\n",
       "\n",
       "    .dataframe tbody tr th {\n",
       "        vertical-align: top;\n",
       "    }\n",
       "\n",
       "    .dataframe thead th {\n",
       "        text-align: right;\n",
       "    }\n",
       "</style>\n",
       "<table border=\"1\" class=\"dataframe\">\n",
       "  <thead>\n",
       "    <tr style=\"text-align: right;\">\n",
       "      <th></th>\n",
       "      <th>MedInc</th>\n",
       "      <th>HouseAge</th>\n",
       "      <th>AveRooms</th>\n",
       "      <th>AveBedrms</th>\n",
       "      <th>Population</th>\n",
       "      <th>AveOccup</th>\n",
       "      <th>Latitude</th>\n",
       "      <th>Longitude</th>\n",
       "      <th>PRICE</th>\n",
       "    </tr>\n",
       "  </thead>\n",
       "  <tbody>\n",
       "    <tr>\n",
       "      <th>0</th>\n",
       "      <td>8.3252</td>\n",
       "      <td>41.0</td>\n",
       "      <td>6.984127</td>\n",
       "      <td>1.023810</td>\n",
       "      <td>322.0</td>\n",
       "      <td>2.555556</td>\n",
       "      <td>37.88</td>\n",
       "      <td>-122.23</td>\n",
       "      <td>4.526</td>\n",
       "    </tr>\n",
       "    <tr>\n",
       "      <th>1</th>\n",
       "      <td>8.3014</td>\n",
       "      <td>21.0</td>\n",
       "      <td>6.238137</td>\n",
       "      <td>0.971880</td>\n",
       "      <td>2401.0</td>\n",
       "      <td>2.109842</td>\n",
       "      <td>37.86</td>\n",
       "      <td>-122.22</td>\n",
       "      <td>3.585</td>\n",
       "    </tr>\n",
       "    <tr>\n",
       "      <th>2</th>\n",
       "      <td>7.2574</td>\n",
       "      <td>52.0</td>\n",
       "      <td>8.288136</td>\n",
       "      <td>1.073446</td>\n",
       "      <td>496.0</td>\n",
       "      <td>2.802260</td>\n",
       "      <td>37.85</td>\n",
       "      <td>-122.24</td>\n",
       "      <td>3.521</td>\n",
       "    </tr>\n",
       "    <tr>\n",
       "      <th>118</th>\n",
       "      <td>5.8596</td>\n",
       "      <td>50.0</td>\n",
       "      <td>6.742627</td>\n",
       "      <td>1.069705</td>\n",
       "      <td>970.0</td>\n",
       "      <td>2.600536</td>\n",
       "      <td>37.84</td>\n",
       "      <td>-122.23</td>\n",
       "      <td>3.276</td>\n",
       "    </tr>\n",
       "    <tr>\n",
       "      <th>120</th>\n",
       "      <td>5.9560</td>\n",
       "      <td>41.0</td>\n",
       "      <td>6.851064</td>\n",
       "      <td>1.079787</td>\n",
       "      <td>794.0</td>\n",
       "      <td>2.111702</td>\n",
       "      <td>37.83</td>\n",
       "      <td>-122.24</td>\n",
       "      <td>3.661</td>\n",
       "    </tr>\n",
       "    <tr>\n",
       "      <th>...</th>\n",
       "      <td>...</td>\n",
       "      <td>...</td>\n",
       "      <td>...</td>\n",
       "      <td>...</td>\n",
       "      <td>...</td>\n",
       "      <td>...</td>\n",
       "      <td>...</td>\n",
       "      <td>...</td>\n",
       "      <td>...</td>\n",
       "    </tr>\n",
       "    <tr>\n",
       "      <th>20487</th>\n",
       "      <td>7.9013</td>\n",
       "      <td>5.0</td>\n",
       "      <td>8.319293</td>\n",
       "      <td>1.120924</td>\n",
       "      <td>2440.0</td>\n",
       "      <td>3.315217</td>\n",
       "      <td>34.30</td>\n",
       "      <td>-118.67</td>\n",
       "      <td>3.930</td>\n",
       "    </tr>\n",
       "    <tr>\n",
       "      <th>20494</th>\n",
       "      <td>6.3236</td>\n",
       "      <td>24.0</td>\n",
       "      <td>7.829396</td>\n",
       "      <td>1.065617</td>\n",
       "      <td>1203.0</td>\n",
       "      <td>3.157480</td>\n",
       "      <td>34.29</td>\n",
       "      <td>-118.71</td>\n",
       "      <td>3.020</td>\n",
       "    </tr>\n",
       "    <tr>\n",
       "      <th>20501</th>\n",
       "      <td>6.5483</td>\n",
       "      <td>20.0</td>\n",
       "      <td>7.588517</td>\n",
       "      <td>0.894737</td>\n",
       "      <td>699.0</td>\n",
       "      <td>3.344498</td>\n",
       "      <td>34.30</td>\n",
       "      <td>-118.71</td>\n",
       "      <td>3.350</td>\n",
       "    </tr>\n",
       "    <tr>\n",
       "      <th>20503</th>\n",
       "      <td>8.2787</td>\n",
       "      <td>27.0</td>\n",
       "      <td>6.935065</td>\n",
       "      <td>1.103896</td>\n",
       "      <td>243.0</td>\n",
       "      <td>3.155844</td>\n",
       "      <td>34.33</td>\n",
       "      <td>-118.75</td>\n",
       "      <td>3.300</td>\n",
       "    </tr>\n",
       "    <tr>\n",
       "      <th>20504</th>\n",
       "      <td>7.3550</td>\n",
       "      <td>11.0</td>\n",
       "      <td>7.248670</td>\n",
       "      <td>0.978723</td>\n",
       "      <td>2526.0</td>\n",
       "      <td>3.359043</td>\n",
       "      <td>34.29</td>\n",
       "      <td>-118.73</td>\n",
       "      <td>3.439</td>\n",
       "    </tr>\n",
       "  </tbody>\n",
       "</table>\n",
       "<p>1930 rows × 9 columns</p>\n",
       "</div>"
      ],
      "text/plain": [
       "       MedInc  HouseAge  AveRooms  AveBedrms  Population  AveOccup  Latitude  \\\n",
       "0      8.3252      41.0  6.984127   1.023810       322.0  2.555556     37.88   \n",
       "1      8.3014      21.0  6.238137   0.971880      2401.0  2.109842     37.86   \n",
       "2      7.2574      52.0  8.288136   1.073446       496.0  2.802260     37.85   \n",
       "118    5.8596      50.0  6.742627   1.069705       970.0  2.600536     37.84   \n",
       "120    5.9560      41.0  6.851064   1.079787       794.0  2.111702     37.83   \n",
       "...       ...       ...       ...        ...         ...       ...       ...   \n",
       "20487  7.9013       5.0  8.319293   1.120924      2440.0  3.315217     34.30   \n",
       "20494  6.3236      24.0  7.829396   1.065617      1203.0  3.157480     34.29   \n",
       "20501  6.5483      20.0  7.588517   0.894737       699.0  3.344498     34.30   \n",
       "20503  8.2787      27.0  6.935065   1.103896       243.0  3.155844     34.33   \n",
       "20504  7.3550      11.0  7.248670   0.978723      2526.0  3.359043     34.29   \n",
       "\n",
       "       Longitude  PRICE  \n",
       "0        -122.23  4.526  \n",
       "1        -122.22  3.585  \n",
       "2        -122.24  3.521  \n",
       "118      -122.23  3.276  \n",
       "120      -122.24  3.661  \n",
       "...          ...    ...  \n",
       "20487    -118.67  3.930  \n",
       "20494    -118.71  3.020  \n",
       "20501    -118.71  3.350  \n",
       "20503    -118.75  3.300  \n",
       "20504    -118.73  3.439  \n",
       "\n",
       "[1930 rows x 9 columns]"
      ]
     },
     "execution_count": 56,
     "metadata": {},
     "output_type": "execute_result"
    }
   ],
   "source": [
    "df.query(\"MedInc > 5.6431 and PRICE > 3\")"
   ]
  },
  {
   "cell_type": "code",
   "execution_count": 57,
   "metadata": {},
   "outputs": [
    {
     "data": {
      "text/html": [
       "<div>\n",
       "<style scoped>\n",
       "    .dataframe tbody tr th:only-of-type {\n",
       "        vertical-align: middle;\n",
       "    }\n",
       "\n",
       "    .dataframe tbody tr th {\n",
       "        vertical-align: top;\n",
       "    }\n",
       "\n",
       "    .dataframe thead th {\n",
       "        text-align: right;\n",
       "    }\n",
       "</style>\n",
       "<table border=\"1\" class=\"dataframe\">\n",
       "  <thead>\n",
       "    <tr style=\"text-align: right;\">\n",
       "      <th></th>\n",
       "      <th>MedInc</th>\n",
       "      <th>HouseAge</th>\n",
       "      <th>AveRooms</th>\n",
       "      <th>AveBedrms</th>\n",
       "      <th>Population</th>\n",
       "      <th>AveOccup</th>\n",
       "      <th>Latitude</th>\n",
       "      <th>Longitude</th>\n",
       "      <th>PRICE</th>\n",
       "    </tr>\n",
       "  </thead>\n",
       "  <tbody>\n",
       "    <tr>\n",
       "      <th>0</th>\n",
       "      <td>8.3252</td>\n",
       "      <td>41.0</td>\n",
       "      <td>6.984127</td>\n",
       "      <td>1.023810</td>\n",
       "      <td>322.0</td>\n",
       "      <td>2.555556</td>\n",
       "      <td>37.88</td>\n",
       "      <td>-122.23</td>\n",
       "      <td>4.526</td>\n",
       "    </tr>\n",
       "    <tr>\n",
       "      <th>1</th>\n",
       "      <td>8.3014</td>\n",
       "      <td>21.0</td>\n",
       "      <td>6.238137</td>\n",
       "      <td>0.971880</td>\n",
       "      <td>2401.0</td>\n",
       "      <td>2.109842</td>\n",
       "      <td>37.86</td>\n",
       "      <td>-122.22</td>\n",
       "      <td>3.585</td>\n",
       "    </tr>\n",
       "    <tr>\n",
       "      <th>2</th>\n",
       "      <td>7.2574</td>\n",
       "      <td>52.0</td>\n",
       "      <td>8.288136</td>\n",
       "      <td>1.073446</td>\n",
       "      <td>496.0</td>\n",
       "      <td>2.802260</td>\n",
       "      <td>37.85</td>\n",
       "      <td>-122.24</td>\n",
       "      <td>3.521</td>\n",
       "    </tr>\n",
       "    <tr>\n",
       "      <th>118</th>\n",
       "      <td>5.8596</td>\n",
       "      <td>50.0</td>\n",
       "      <td>6.742627</td>\n",
       "      <td>1.069705</td>\n",
       "      <td>970.0</td>\n",
       "      <td>2.600536</td>\n",
       "      <td>37.84</td>\n",
       "      <td>-122.23</td>\n",
       "      <td>3.276</td>\n",
       "    </tr>\n",
       "    <tr>\n",
       "      <th>120</th>\n",
       "      <td>5.9560</td>\n",
       "      <td>41.0</td>\n",
       "      <td>6.851064</td>\n",
       "      <td>1.079787</td>\n",
       "      <td>794.0</td>\n",
       "      <td>2.111702</td>\n",
       "      <td>37.83</td>\n",
       "      <td>-122.24</td>\n",
       "      <td>3.661</td>\n",
       "    </tr>\n",
       "    <tr>\n",
       "      <th>...</th>\n",
       "      <td>...</td>\n",
       "      <td>...</td>\n",
       "      <td>...</td>\n",
       "      <td>...</td>\n",
       "      <td>...</td>\n",
       "      <td>...</td>\n",
       "      <td>...</td>\n",
       "      <td>...</td>\n",
       "      <td>...</td>\n",
       "    </tr>\n",
       "    <tr>\n",
       "      <th>20487</th>\n",
       "      <td>7.9013</td>\n",
       "      <td>5.0</td>\n",
       "      <td>8.319293</td>\n",
       "      <td>1.120924</td>\n",
       "      <td>2440.0</td>\n",
       "      <td>3.315217</td>\n",
       "      <td>34.30</td>\n",
       "      <td>-118.67</td>\n",
       "      <td>3.930</td>\n",
       "    </tr>\n",
       "    <tr>\n",
       "      <th>20494</th>\n",
       "      <td>6.3236</td>\n",
       "      <td>24.0</td>\n",
       "      <td>7.829396</td>\n",
       "      <td>1.065617</td>\n",
       "      <td>1203.0</td>\n",
       "      <td>3.157480</td>\n",
       "      <td>34.29</td>\n",
       "      <td>-118.71</td>\n",
       "      <td>3.020</td>\n",
       "    </tr>\n",
       "    <tr>\n",
       "      <th>20501</th>\n",
       "      <td>6.5483</td>\n",
       "      <td>20.0</td>\n",
       "      <td>7.588517</td>\n",
       "      <td>0.894737</td>\n",
       "      <td>699.0</td>\n",
       "      <td>3.344498</td>\n",
       "      <td>34.30</td>\n",
       "      <td>-118.71</td>\n",
       "      <td>3.350</td>\n",
       "    </tr>\n",
       "    <tr>\n",
       "      <th>20503</th>\n",
       "      <td>8.2787</td>\n",
       "      <td>27.0</td>\n",
       "      <td>6.935065</td>\n",
       "      <td>1.103896</td>\n",
       "      <td>243.0</td>\n",
       "      <td>3.155844</td>\n",
       "      <td>34.33</td>\n",
       "      <td>-118.75</td>\n",
       "      <td>3.300</td>\n",
       "    </tr>\n",
       "    <tr>\n",
       "      <th>20504</th>\n",
       "      <td>7.3550</td>\n",
       "      <td>11.0</td>\n",
       "      <td>7.248670</td>\n",
       "      <td>0.978723</td>\n",
       "      <td>2526.0</td>\n",
       "      <td>3.359043</td>\n",
       "      <td>34.29</td>\n",
       "      <td>-118.73</td>\n",
       "      <td>3.439</td>\n",
       "    </tr>\n",
       "  </tbody>\n",
       "</table>\n",
       "<p>1930 rows × 9 columns</p>\n",
       "</div>"
      ],
      "text/plain": [
       "       MedInc  HouseAge  AveRooms  AveBedrms  Population  AveOccup  Latitude  \\\n",
       "0      8.3252      41.0  6.984127   1.023810       322.0  2.555556     37.88   \n",
       "1      8.3014      21.0  6.238137   0.971880      2401.0  2.109842     37.86   \n",
       "2      7.2574      52.0  8.288136   1.073446       496.0  2.802260     37.85   \n",
       "118    5.8596      50.0  6.742627   1.069705       970.0  2.600536     37.84   \n",
       "120    5.9560      41.0  6.851064   1.079787       794.0  2.111702     37.83   \n",
       "...       ...       ...       ...        ...         ...       ...       ...   \n",
       "20487  7.9013       5.0  8.319293   1.120924      2440.0  3.315217     34.30   \n",
       "20494  6.3236      24.0  7.829396   1.065617      1203.0  3.157480     34.29   \n",
       "20501  6.5483      20.0  7.588517   0.894737       699.0  3.344498     34.30   \n",
       "20503  8.2787      27.0  6.935065   1.103896       243.0  3.155844     34.33   \n",
       "20504  7.3550      11.0  7.248670   0.978723      2526.0  3.359043     34.29   \n",
       "\n",
       "       Longitude  PRICE  \n",
       "0        -122.23  4.526  \n",
       "1        -122.22  3.585  \n",
       "2        -122.24  3.521  \n",
       "118      -122.23  3.276  \n",
       "120      -122.24  3.661  \n",
       "...          ...    ...  \n",
       "20487    -118.67  3.930  \n",
       "20494    -118.71  3.020  \n",
       "20501    -118.71  3.350  \n",
       "20503    -118.75  3.300  \n",
       "20504    -118.73  3.439  \n",
       "\n",
       "[1930 rows x 9 columns]"
      ]
     },
     "execution_count": 57,
     "metadata": {},
     "output_type": "execute_result"
    }
   ],
   "source": [
    "df[(df[\"MedInc\"] > 5.6431) & (df[\"PRICE\"] > 3)]"
   ]
  },
  {
   "cell_type": "code",
   "execution_count": 63,
   "metadata": {},
   "outputs": [
    {
     "data": {
      "text/html": [
       "<div>\n",
       "<style scoped>\n",
       "    .dataframe tbody tr th:only-of-type {\n",
       "        vertical-align: middle;\n",
       "    }\n",
       "\n",
       "    .dataframe tbody tr th {\n",
       "        vertical-align: top;\n",
       "    }\n",
       "\n",
       "    .dataframe thead th {\n",
       "        text-align: right;\n",
       "    }\n",
       "</style>\n",
       "<table border=\"1\" class=\"dataframe\">\n",
       "  <thead>\n",
       "    <tr style=\"text-align: right;\">\n",
       "      <th></th>\n",
       "      <th>MedInc</th>\n",
       "      <th>HouseAge</th>\n",
       "      <th>AveRooms</th>\n",
       "      <th>AveBedrms</th>\n",
       "      <th>Population</th>\n",
       "      <th>AveOccup</th>\n",
       "      <th>Latitude</th>\n",
       "      <th>Longitude</th>\n",
       "      <th>PRICE</th>\n",
       "    </tr>\n",
       "  </thead>\n",
       "  <tbody>\n",
       "    <tr>\n",
       "      <th>0</th>\n",
       "      <td>8.3252</td>\n",
       "      <td>41.0</td>\n",
       "      <td>6.984127</td>\n",
       "      <td>1.023810</td>\n",
       "      <td>322.0</td>\n",
       "      <td>2.555556</td>\n",
       "      <td>37.88</td>\n",
       "      <td>-122.23</td>\n",
       "      <td>4.526</td>\n",
       "    </tr>\n",
       "    <tr>\n",
       "      <th>1</th>\n",
       "      <td>8.3014</td>\n",
       "      <td>21.0</td>\n",
       "      <td>6.238137</td>\n",
       "      <td>0.971880</td>\n",
       "      <td>2401.0</td>\n",
       "      <td>2.109842</td>\n",
       "      <td>37.86</td>\n",
       "      <td>-122.22</td>\n",
       "      <td>3.585</td>\n",
       "    </tr>\n",
       "    <tr>\n",
       "      <th>2</th>\n",
       "      <td>7.2574</td>\n",
       "      <td>52.0</td>\n",
       "      <td>8.288136</td>\n",
       "      <td>1.073446</td>\n",
       "      <td>496.0</td>\n",
       "      <td>2.802260</td>\n",
       "      <td>37.85</td>\n",
       "      <td>-122.24</td>\n",
       "      <td>3.521</td>\n",
       "    </tr>\n",
       "    <tr>\n",
       "      <th>3</th>\n",
       "      <td>5.6431</td>\n",
       "      <td>52.0</td>\n",
       "      <td>5.817352</td>\n",
       "      <td>1.073059</td>\n",
       "      <td>558.0</td>\n",
       "      <td>2.547945</td>\n",
       "      <td>37.85</td>\n",
       "      <td>-122.25</td>\n",
       "      <td>3.413</td>\n",
       "    </tr>\n",
       "    <tr>\n",
       "      <th>4</th>\n",
       "      <td>3.8462</td>\n",
       "      <td>52.0</td>\n",
       "      <td>6.281853</td>\n",
       "      <td>1.081081</td>\n",
       "      <td>565.0</td>\n",
       "      <td>2.181467</td>\n",
       "      <td>37.85</td>\n",
       "      <td>-122.25</td>\n",
       "      <td>3.422</td>\n",
       "    </tr>\n",
       "    <tr>\n",
       "      <th>...</th>\n",
       "      <td>...</td>\n",
       "      <td>...</td>\n",
       "      <td>...</td>\n",
       "      <td>...</td>\n",
       "      <td>...</td>\n",
       "      <td>...</td>\n",
       "      <td>...</td>\n",
       "      <td>...</td>\n",
       "      <td>...</td>\n",
       "    </tr>\n",
       "    <tr>\n",
       "      <th>20506</th>\n",
       "      <td>6.9454</td>\n",
       "      <td>8.0</td>\n",
       "      <td>6.873103</td>\n",
       "      <td>1.040000</td>\n",
       "      <td>2510.0</td>\n",
       "      <td>3.462069</td>\n",
       "      <td>34.29</td>\n",
       "      <td>-118.73</td>\n",
       "      <td>2.765</td>\n",
       "    </tr>\n",
       "    <tr>\n",
       "      <th>20527</th>\n",
       "      <td>1.4653</td>\n",
       "      <td>7.0</td>\n",
       "      <td>3.525794</td>\n",
       "      <td>1.017857</td>\n",
       "      <td>4479.0</td>\n",
       "      <td>8.886905</td>\n",
       "      <td>38.54</td>\n",
       "      <td>-121.79</td>\n",
       "      <td>3.100</td>\n",
       "    </tr>\n",
       "    <tr>\n",
       "      <th>20531</th>\n",
       "      <td>5.9629</td>\n",
       "      <td>17.0</td>\n",
       "      <td>6.867133</td>\n",
       "      <td>1.097902</td>\n",
       "      <td>808.0</td>\n",
       "      <td>2.825175</td>\n",
       "      <td>38.58</td>\n",
       "      <td>-121.81</td>\n",
       "      <td>2.860</td>\n",
       "    </tr>\n",
       "    <tr>\n",
       "      <th>20533</th>\n",
       "      <td>4.2432</td>\n",
       "      <td>13.0</td>\n",
       "      <td>6.350569</td>\n",
       "      <td>1.053775</td>\n",
       "      <td>2553.0</td>\n",
       "      <td>2.640124</td>\n",
       "      <td>38.54</td>\n",
       "      <td>-121.67</td>\n",
       "      <td>3.265</td>\n",
       "    </tr>\n",
       "    <tr>\n",
       "      <th>20573</th>\n",
       "      <td>5.6790</td>\n",
       "      <td>20.0</td>\n",
       "      <td>6.401274</td>\n",
       "      <td>1.070064</td>\n",
       "      <td>457.0</td>\n",
       "      <td>2.910828</td>\n",
       "      <td>38.56</td>\n",
       "      <td>-122.05</td>\n",
       "      <td>2.250</td>\n",
       "    </tr>\n",
       "  </tbody>\n",
       "</table>\n",
       "<p>4781 rows × 9 columns</p>\n",
       "</div>"
      ],
      "text/plain": [
       "       MedInc  HouseAge  AveRooms  AveBedrms  Population  AveOccup  Latitude  \\\n",
       "0      8.3252      41.0  6.984127   1.023810       322.0  2.555556     37.88   \n",
       "1      8.3014      21.0  6.238137   0.971880      2401.0  2.109842     37.86   \n",
       "2      7.2574      52.0  8.288136   1.073446       496.0  2.802260     37.85   \n",
       "3      5.6431      52.0  5.817352   1.073059       558.0  2.547945     37.85   \n",
       "4      3.8462      52.0  6.281853   1.081081       565.0  2.181467     37.85   \n",
       "...       ...       ...       ...        ...         ...       ...       ...   \n",
       "20506  6.9454       8.0  6.873103   1.040000      2510.0  3.462069     34.29   \n",
       "20527  1.4653       7.0  3.525794   1.017857      4479.0  8.886905     38.54   \n",
       "20531  5.9629      17.0  6.867133   1.097902       808.0  2.825175     38.58   \n",
       "20533  4.2432      13.0  6.350569   1.053775      2553.0  2.640124     38.54   \n",
       "20573  5.6790      20.0  6.401274   1.070064       457.0  2.910828     38.56   \n",
       "\n",
       "       Longitude  PRICE  \n",
       "0        -122.23  4.526  \n",
       "1        -122.22  3.585  \n",
       "2        -122.24  3.521  \n",
       "3        -122.25  3.413  \n",
       "4        -122.25  3.422  \n",
       "...          ...    ...  \n",
       "20506    -118.73  2.765  \n",
       "20527    -121.79  3.100  \n",
       "20531    -121.81  2.860  \n",
       "20533    -121.67  3.265  \n",
       "20573    -122.05  2.250  \n",
       "\n",
       "[4781 rows x 9 columns]"
      ]
     },
     "execution_count": 63,
     "metadata": {},
     "output_type": "execute_result"
    }
   ],
   "source": [
    "df[(df[\"MedInc\"] > 5.6431) | (df[\"PRICE\"] > 3)]"
   ]
  },
  {
   "cell_type": "markdown",
   "metadata": {},
   "source": [
    "We can also get specfic rows and columns using `.iloc[]` and `.loc[]`"
   ]
  },
  {
   "cell_type": "code",
   "execution_count": null,
   "metadata": {},
   "outputs": [
    {
     "data": {
      "text/plain": [
       "0        4.526\n",
       "1        3.585\n",
       "2        3.521\n",
       "3        3.413\n",
       "4        3.422\n",
       "         ...  \n",
       "20635    0.781\n",
       "20636    0.771\n",
       "20637    0.923\n",
       "20638    0.847\n",
       "20639    0.894\n",
       "Name: PRICE, Length: 20640, dtype: float64"
      ]
     },
     "execution_count": 62,
     "metadata": {},
     "output_type": "execute_result"
    }
   ],
   "source": [
    "df.iloc[0]  # Select first row (by index)\n",
    "df.iloc[:3]  # Select first three rows\n",
    "\n",
    "df.loc[0, \"MedInc\"]  # Select a specific value (row 0, column \"Name\")\n",
    "df.loc[:, \"PRICE\"]  # Select all rows for \"Age\" column"
   ]
  },
  {
   "cell_type": "code",
   "execution_count": null,
   "metadata": {},
   "outputs": [],
   "source": []
  },
  {
   "cell_type": "code",
   "execution_count": null,
   "metadata": {},
   "outputs": [],
   "source": []
  },
  {
   "cell_type": "code",
   "execution_count": null,
   "metadata": {},
   "outputs": [],
   "source": []
  },
  {
   "cell_type": "code",
   "execution_count": null,
   "metadata": {},
   "outputs": [],
   "source": []
  },
  {
   "cell_type": "code",
   "execution_count": null,
   "metadata": {},
   "outputs": [],
   "source": []
  },
  {
   "cell_type": "code",
   "execution_count": null,
   "metadata": {},
   "outputs": [],
   "source": []
  },
  {
   "cell_type": "code",
   "execution_count": null,
   "metadata": {},
   "outputs": [],
   "source": []
  },
  {
   "cell_type": "code",
   "execution_count": null,
   "metadata": {},
   "outputs": [],
   "source": []
  }
 ],
 "metadata": {
  "kernelspec": {
   "display_name": "pdmdata",
   "language": "python",
   "name": "python3"
  },
  "language_info": {
   "codemirror_mode": {
    "name": "ipython",
    "version": 3
   },
   "file_extension": ".py",
   "mimetype": "text/x-python",
   "name": "python",
   "nbconvert_exporter": "python",
   "pygments_lexer": "ipython3",
   "version": "3.13.2"
  }
 },
 "nbformat": 4,
 "nbformat_minor": 2
}
