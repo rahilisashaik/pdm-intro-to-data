{
 "cells": [
  {
   "cell_type": "markdown",
   "metadata": {},
   "source": [
    "<img src= \"https://static.wixstatic.com/media/9278e7_c8e6664df6e44185b1da6e60e9e8da6c~mv2.png/v1/fill/w_110,h_110,al_c,q_85,usm_0.66_1.00_0.01,enc_auto/black_logo.png\">\n",
    "\n",
    "# Sp25 PDM Intro to Data\n",
    "Built and presented by Shivani Sahni and Rahil Shaik\n",
    "\n",
    "March 19th 2025"
   ]
  },
  {
   "cell_type": "markdown",
   "metadata": {},
   "source": [
    "### Section 1: Introduction to Jupyter Notebooks\n",
    "\n",
    "#### 1.1: Introduction to Jupyter Notebooks:\n",
    "Jupyter Notebooks are interactive documents that combine code, text, and visualizations, making them ideal for data analysis and teaching.​ These are commonplace in research, machine learning, and quantitative finance settings to perform exploratory data work. It enables us to run different experiments to see how we can improve a model's performance in a streamlined and convenient manner.\n",
    "\n",
    "#### 1.2: Operating a Jupyter Notebook:\n",
    "\n",
    "- Running Cells: Each notebook consists of cells that can contain code or text. To execute a code cell, click on it and press `Shift + Enter`. There is also a button when you hover a cell that resembles a play button that allows you to run the cell. \n",
    "\n",
    "- Creating Cells: You can make two types of cells in python notebooks: markdown and code. Markdowns are generally used to add explanatory text around your code cells. Code cells are used for... coding! There are options at the top taskbar to choose between markdown and code. If you double clik into this cell you can see the scripting for this markdown! \n",
    "\n",
    "#### 1.3: Understanding how Kernel's work\n",
    "A kernel is the computational engine that executes the code in the notebook. We will select a python kernel to execute the cells in this python notebook. If the kernel stops or \"dies\", you can restart it with the above taskbar using 'Kernel' > 'Restart'.\n"
   ]
  },
  {
   "cell_type": "markdown",
   "metadata": {},
   "source": [
    "### Section 2: Python and Pandas Basics\n",
    "\n",
    "#### 2.1: Setting up your Python environment\n",
    "There are a few options here including installing Python to your local system, creating a Python virtual environment (venv, conda). Today we will create a python venv virtual environment because they are genearlly lightweight and a major advantage being that you can create isolated environments that use different versions of libraries or Python itself.\n",
    "\n",
    "If you are using macOS, you need to install Homebrew, which helps manage packages easily (I think you guys all have macOS). Access your terminal and run the below commands:\n",
    "\n",
    "`/bin/bash -c \"$(curl -fsSL https://raw.githubusercontent.com/Homebrew/install/HEAD/install.sh)\"`\n",
    "\n",
    "`echo 'eval \"$(/opt/homebrew/bin/brew shellenv)\"' >> ~/.zprofile`\n",
    "\n",
    "`eval \"$(/opt/homebrew/bin/brew shellenv)\" `\n",
    "\n",
    "To ensure you have installed brew, run this command\n",
    "\n",
    "`brew --version`\n",
    "\n",
    "Then install python and git\n",
    "\n",
    "`brew install python`\n",
    "\n",
    "`brew install git`\n",
    "\n",
    "Then you can clone the PDM repository using the git script\n",
    "\n",
    "`git clone https://github.com/rahilisashaik/pdm-intro-to-data.git`\n",
    "\n",
    "You should then access this directory in visual studio code, google colab, or where ever you would like. I assume it is at your default directory:\n",
    "\n",
    "`/Users/rahilshaik/pdm-intro-to-data` or `~/pdm-intro-to-data`\n",
    "\n",
    "For the rest of these instructions, you should be in the built in terminal for your coding environment (colab, vs code, jupyter)\n",
    "\n",
    "Check if python installed correctly with\n",
    "\n",
    "`python3 --version`\n",
    "\n",
    "`pip --version` or `pip3 --version`\n",
    "\n",
    "Now we can create a python virtual environment for this project using the below commands\n",
    "\n",
    "`python -m venv pdmdata` or `python3 -m venv pdmdata`\n",
    "\n",
    "`source pdmdata/bin/activate`\n",
    "\n",
    "Pip is a package manger, if any point you get `ModuleNotFoundError`, you can use pip to install those packages. I have listed the package requirements for this project in the 'requirements.txt' file, we can use pip to install them. \n",
    "\n",
    "`pip3 install -r requirements.txt`\n",
    "\n",
    "\n",
    "Now you're ready to start coding!\n"
   ]
  },
  {
   "cell_type": "markdown",
   "metadata": {},
   "source": [
    "#### 2.2: Basics of Python\n",
    "\n",
    "First we'll talk about variables, variable types, and how python interprets and stores data."
   ]
  },
  {
   "cell_type": "code",
   "execution_count": 188,
   "metadata": {},
   "outputs": [],
   "source": [
    "# these are a bunch of package imports, the great thing about coding in 2025 is the grunt work is \n",
    "# almost always done for you so you can just import packages that do tasks for you\n",
    "\n",
    "import pandas as pd\n",
    "import numpy as np\n",
    "import matplotlib.pyplot as plt\n",
    "from sklearn.model_selection import train_test_split\n",
    "from sklearn.linear_model import LinearRegression\n",
    "from sklearn.metrics import r2_score, mean_absolute_error, mean_squared_error\n",
    "from sklearn.ensemble import RandomForestRegressor\n",
    "from sklearn.cluster import KMeans\n",
    "import seaborn as sns\n",
    "import util"
   ]
  },
  {
   "cell_type": "code",
   "execution_count": 189,
   "metadata": {},
   "outputs": [
    {
     "name": "stdout",
     "output_type": "stream",
     "text": [
      "10\n"
     ]
    }
   ],
   "source": [
    "# Integer\n",
    "x = 10  \n",
    "print(x)"
   ]
  },
  {
   "cell_type": "code",
   "execution_count": 190,
   "metadata": {},
   "outputs": [
    {
     "name": "stdout",
     "output_type": "stream",
     "text": [
      "10.5\n"
     ]
    }
   ],
   "source": [
    "# Float\n",
    "y = 10.5  \n",
    "print(y)  # <class 'float'>"
   ]
  },
  {
   "cell_type": "code",
   "execution_count": 191,
   "metadata": {},
   "outputs": [
    {
     "name": "stdout",
     "output_type": "stream",
     "text": [
      "Leponda\n"
     ]
    }
   ],
   "source": [
    "# String\n",
    "name = \"Leponda\"\n",
    "print(name)  # <class 'str'>"
   ]
  },
  {
   "cell_type": "code",
   "execution_count": 192,
   "metadata": {},
   "outputs": [
    {
     "name": "stdout",
     "output_type": "stream",
     "text": [
      "True\n"
     ]
    }
   ],
   "source": [
    "# Boolean\n",
    "is_student = True\n",
    "print(is_student)  # <class 'bool'>"
   ]
  },
  {
   "cell_type": "code",
   "execution_count": 193,
   "metadata": {},
   "outputs": [
    {
     "name": "stdout",
     "output_type": "stream",
     "text": [
      "['gurnoor', 'arjun', 'sarah', 'katie', 'sadie', 'aathma', 'jay']\n",
      "[4, 4, -1, 8, 16, 4, 4]\n"
     ]
    }
   ],
   "source": [
    "pledges = [\"gurnoor\", \"arjun\", \"sarah\", \"katie\", \"sadie\", \"aathma\", \"jay\"]\n",
    "pledge_points = [4, 4, -1, 8, 16, 4, 4] # as of 03/17 at 7:21 PM\n",
    "\n",
    "print(pledges)  # <class 'list'>\n",
    "print(pledge_points)  # <class 'list'>"
   ]
  },
  {
   "cell_type": "markdown",
   "metadata": {},
   "source": [
    "There are a few manipulations you can do with lists that are pretty useful"
   ]
  },
  {
   "cell_type": "markdown",
   "metadata": {},
   "source": [
    "Guess what this will do"
   ]
  },
  {
   "cell_type": "code",
   "execution_count": 194,
   "metadata": {},
   "outputs": [
    {
     "data": {
      "text/plain": [
       "[1, 2, 3, 4, 5, 6]"
      ]
     },
     "execution_count": 194,
     "metadata": {},
     "output_type": "execute_result"
    }
   ],
   "source": [
    "[1, 2, 3] + [4, 5, 6]"
   ]
  },
  {
   "cell_type": "markdown",
   "metadata": {},
   "source": [
    "Now we're using numpy arrays, similar to lists but guess what this will return"
   ]
  },
  {
   "cell_type": "code",
   "execution_count": 195,
   "metadata": {},
   "outputs": [
    {
     "data": {
      "text/plain": [
       "array([5, 7, 9])"
      ]
     },
     "execution_count": 195,
     "metadata": {},
     "output_type": "execute_result"
    }
   ],
   "source": [
    "np.array([1, 2, 3]) + np.array([4, 5, 6])"
   ]
  },
  {
   "cell_type": "code",
   "execution_count": 196,
   "metadata": {},
   "outputs": [
    {
     "data": {
      "text/plain": [
       "array([[ 3,  6,  9],\n",
       "       [12, 15, 18],\n",
       "       [21, 24, 27]])"
      ]
     },
     "execution_count": 196,
     "metadata": {},
     "output_type": "execute_result"
    }
   ],
   "source": [
    "a = np.array([[1, 2, 3],\n",
    "             [4, 5, 6],\n",
    "             [7, 8, 9]])\n",
    "\n",
    "b = np.array([[2, 4, 6,],\n",
    "             [8, 10, 12],\n",
    "             [14, 16, 18]])\n",
    "a + b"
   ]
  },
  {
   "cell_type": "markdown",
   "metadata": {},
   "source": [
    "Now try this out yourself! Create a 4 x 3 matrix like such:\n",
    "\n",
    "$$ \\begin{bmatrix}\n",
    "1 & 2 & 3\\\\\n",
    "5 & 6 & 7\\\\\n",
    "8 & 9 & 10\\\\\n",
    "\\end{bmatrix} $$\n",
    "\n",
    "Then, output a matrix where each column is subtracted by its (each column's) average.  \n",
    "_Hint: use np.mean(axis=)_"
   ]
  },
  {
   "cell_type": "code",
   "execution_count": 197,
   "metadata": {},
   "outputs": [],
   "source": [
    "#TODO: define np.array with the above items"
   ]
  },
  {
   "cell_type": "code",
   "execution_count": 198,
   "metadata": {},
   "outputs": [],
   "source": [
    "#TODO: get means of each column and subtract from each column in matrix"
   ]
  },
  {
   "cell_type": "code",
   "execution_count": 199,
   "metadata": {},
   "outputs": [],
   "source": [
    "#TODO: print the output"
   ]
  },
  {
   "cell_type": "code",
   "execution_count": 200,
   "metadata": {},
   "outputs": [
    {
     "name": "stdout",
     "output_type": "stream",
     "text": [
      "{'top_pledge': 'rahil', 'bottom_pledge': 'shivani'}\n"
     ]
    }
   ],
   "source": [
    "# Dictionary (key-value pairs)\n",
    "trash_pledge_leaderboard = {\"top_pledge\": \"rahil\", \"bottom_pledge\": \"shivani\"}\n",
    "print(trash_pledge_leaderboard)  # <class 'dict'>"
   ]
  },
  {
   "cell_type": "markdown",
   "metadata": {},
   "source": [
    "This doesn't look right, let's use the lists we created and update the dictionary with the correct pledge and pledge points."
   ]
  },
  {
   "cell_type": "code",
   "execution_count": 201,
   "metadata": {},
   "outputs": [
    {
     "name": "stdout",
     "output_type": "stream",
     "text": [
      "{'gurnoor': 4, 'arjun': 4, 'sarah': -1, 'katie': 8, 'sadie': 16, 'aathma': 4, 'jay': 4}\n"
     ]
    }
   ],
   "source": [
    "pledge_to_points = zip(pledges, pledge_points)\n",
    "pledge_leaderboard = dict(pledge_to_points)\n",
    "\n",
    "print(pledge_leaderboard)"
   ]
  },
  {
   "cell_type": "markdown",
   "metadata": {},
   "source": [
    "Let's use some python syntax to return the top and bottom pledge. We'll start with a brief overview of for loops and if statements in python."
   ]
  },
  {
   "cell_type": "code",
   "execution_count": 202,
   "metadata": {},
   "outputs": [
    {
     "name": "stdout",
     "output_type": "stream",
     "text": [
      "gurnoor\n",
      "arjun\n",
      "sarah\n",
      "katie\n",
      "sadie\n",
      "aathma\n",
      "jay\n"
     ]
    }
   ],
   "source": [
    "for pledge in pledges:\n",
    "    print(pledge)"
   ]
  },
  {
   "cell_type": "code",
   "execution_count": 203,
   "metadata": {},
   "outputs": [
    {
     "name": "stdout",
     "output_type": "stream",
     "text": [
      "gurnoor\n",
      "arjun\n",
      "sarah\n",
      "katie\n",
      "sadie\n",
      "aathma\n",
      "jay\n"
     ]
    }
   ],
   "source": [
    "for i in range(len(pledges)):\n",
    "    print(pledges[i])"
   ]
  },
  {
   "cell_type": "code",
   "execution_count": 204,
   "metadata": {},
   "outputs": [
    {
     "name": "stdout",
     "output_type": "stream",
     "text": [
      "The pledges doing above average are katie\n",
      "The pledges doing above average are sadie\n"
     ]
    }
   ],
   "source": [
    "for pledge, points in pledge_leaderboard.items():\n",
    "    if points > np.mean(pledge_points):\n",
    "        print(\"The pledges doing above average are\", pledge)\n",
    "        "
   ]
  },
  {
   "cell_type": "code",
   "execution_count": 205,
   "metadata": {},
   "outputs": [],
   "source": [
    "least_points = float('inf')\n",
    "most_points = float('-inf')\n",
    "\n",
    "bottom_pledge = \"\"\n",
    "top_pledge = \"\"\n",
    "\n",
    "for pledge, points in pledge_leaderboard.items():\n",
    "    if points < least_points:\n",
    "        least_points = points\n",
    "        bottom_pledge = pledge\n",
    "        \n",
    "    if points > most_points:\n",
    "        most_points = points\n",
    "        top_pledge = pledge"
   ]
  },
  {
   "cell_type": "code",
   "execution_count": 206,
   "metadata": {},
   "outputs": [
    {
     "name": "stdout",
     "output_type": "stream",
     "text": [
      "top pledge is sadie with 16 points\n",
      "bottom pledge is sarah with -1 points\n"
     ]
    }
   ],
   "source": [
    "print(\"top pledge is\", top_pledge, \"with\", pledge_leaderboard[top_pledge], \"points\")\n",
    "print(\"bottom pledge is\", bottom_pledge, \"with\", pledge_leaderboard[bottom_pledge], \"points\")"
   ]
  },
  {
   "cell_type": "markdown",
   "metadata": {},
   "source": [
    "The last piece of syntax we'll go over is indexing and slicing"
   ]
  },
  {
   "cell_type": "code",
   "execution_count": 207,
   "metadata": {},
   "outputs": [
    {
     "name": "stdout",
     "output_type": "stream",
     "text": [
      "['gurnoor', 'arjun', 'sarah', 'katie', 'sadie', 'aathma', 'jay']\n"
     ]
    }
   ],
   "source": [
    "print(pledges)"
   ]
  },
  {
   "cell_type": "code",
   "execution_count": 208,
   "metadata": {},
   "outputs": [
    {
     "data": {
      "text/plain": [
       "'sarah'"
      ]
     },
     "execution_count": 208,
     "metadata": {},
     "output_type": "execute_result"
    }
   ],
   "source": [
    "# direct indexing\n",
    "pledges[2]"
   ]
  },
  {
   "cell_type": "code",
   "execution_count": 209,
   "metadata": {},
   "outputs": [
    {
     "data": {
      "text/plain": [
       "'jay'"
      ]
     },
     "execution_count": 209,
     "metadata": {},
     "output_type": "execute_result"
    }
   ],
   "source": [
    "pledges[-1]"
   ]
  },
  {
   "cell_type": "markdown",
   "metadata": {},
   "source": [
    "You can also use slicing:\n",
    "\n",
    "`list[start:end:step]`\n",
    "\n",
    "If you leave `start` blank it will default to 0\n",
    "If you leave `end` blank it will default to the last item in the list\n",
    "If you leave `step` blank it will default to 1"
   ]
  },
  {
   "cell_type": "code",
   "execution_count": 210,
   "metadata": {},
   "outputs": [
    {
     "data": {
      "text/plain": [
       "['arjun', 'katie', 'aathma']"
      ]
     },
     "execution_count": 210,
     "metadata": {},
     "output_type": "execute_result"
    }
   ],
   "source": [
    "pledges[1:6:2]"
   ]
  },
  {
   "cell_type": "markdown",
   "metadata": {},
   "source": [
    "#### 2.3: Using Pandas for Exploratory Data Analysis\n",
    "We will use a data set from sklearn to practice about california housing, pandas enables us to read this information in as a 'dataframe'."
   ]
  },
  {
   "cell_type": "code",
   "execution_count": 211,
   "metadata": {},
   "outputs": [],
   "source": [
    "df = pd.read_csv(\"train.csv\")"
   ]
  },
  {
   "cell_type": "markdown",
   "metadata": {},
   "source": [
    "Use `.head()` to get the first 5 rows of your data frame"
   ]
  },
  {
   "cell_type": "code",
   "execution_count": 212,
   "metadata": {},
   "outputs": [
    {
     "data": {
      "text/html": [
       "<div>\n",
       "<style scoped>\n",
       "    .dataframe tbody tr th:only-of-type {\n",
       "        vertical-align: middle;\n",
       "    }\n",
       "\n",
       "    .dataframe tbody tr th {\n",
       "        vertical-align: top;\n",
       "    }\n",
       "\n",
       "    .dataframe thead th {\n",
       "        text-align: right;\n",
       "    }\n",
       "</style>\n",
       "<table border=\"1\" class=\"dataframe\">\n",
       "  <thead>\n",
       "    <tr style=\"text-align: right;\">\n",
       "      <th></th>\n",
       "      <th>Id</th>\n",
       "      <th>MedInc</th>\n",
       "      <th>HouseAge</th>\n",
       "      <th>AveRooms</th>\n",
       "      <th>AveBedrms</th>\n",
       "      <th>Population</th>\n",
       "      <th>AveOccup</th>\n",
       "      <th>Latitude</th>\n",
       "      <th>Longitude</th>\n",
       "      <th>PRICE</th>\n",
       "    </tr>\n",
       "  </thead>\n",
       "  <tbody>\n",
       "    <tr>\n",
       "      <th>0</th>\n",
       "      <td>14196</td>\n",
       "      <td>3.2596</td>\n",
       "      <td>33.0</td>\n",
       "      <td>5.017657</td>\n",
       "      <td>1.006421</td>\n",
       "      <td>2300.0</td>\n",
       "      <td>3.691814</td>\n",
       "      <td>32.71</td>\n",
       "      <td>-117.03</td>\n",
       "      <td>1.030</td>\n",
       "    </tr>\n",
       "    <tr>\n",
       "      <th>1</th>\n",
       "      <td>8267</td>\n",
       "      <td>3.8125</td>\n",
       "      <td>49.0</td>\n",
       "      <td>4.473545</td>\n",
       "      <td>1.041005</td>\n",
       "      <td>1314.0</td>\n",
       "      <td>1.738095</td>\n",
       "      <td>33.77</td>\n",
       "      <td>-118.16</td>\n",
       "      <td>3.821</td>\n",
       "    </tr>\n",
       "  </tbody>\n",
       "</table>\n",
       "</div>"
      ],
      "text/plain": [
       "      Id  MedInc  HouseAge  AveRooms  AveBedrms  Population  AveOccup  \\\n",
       "0  14196  3.2596      33.0  5.017657   1.006421      2300.0  3.691814   \n",
       "1   8267  3.8125      49.0  4.473545   1.041005      1314.0  1.738095   \n",
       "\n",
       "   Latitude  Longitude  PRICE  \n",
       "0     32.71    -117.03  1.030  \n",
       "1     33.77    -118.16  3.821  "
      ]
     },
     "execution_count": 212,
     "metadata": {},
     "output_type": "execute_result"
    }
   ],
   "source": [
    "df.head(2)"
   ]
  },
  {
   "cell_type": "markdown",
   "metadata": {},
   "source": [
    "A few operations on the dataframe you can use to extract information"
   ]
  },
  {
   "cell_type": "code",
   "execution_count": null,
   "metadata": {},
   "outputs": [
    {
     "data": {
      "text/html": [
       "<div>\n",
       "<style scoped>\n",
       "    .dataframe tbody tr th:only-of-type {\n",
       "        vertical-align: middle;\n",
       "    }\n",
       "\n",
       "    .dataframe tbody tr th {\n",
       "        vertical-align: top;\n",
       "    }\n",
       "\n",
       "    .dataframe thead th {\n",
       "        text-align: right;\n",
       "    }\n",
       "</style>\n",
       "<table border=\"1\" class=\"dataframe\">\n",
       "  <thead>\n",
       "    <tr style=\"text-align: right;\">\n",
       "      <th></th>\n",
       "      <th>Id</th>\n",
       "      <th>MedInc</th>\n",
       "      <th>HouseAge</th>\n",
       "      <th>AveRooms</th>\n",
       "      <th>AveBedrms</th>\n",
       "      <th>Population</th>\n",
       "      <th>AveOccup</th>\n",
       "      <th>Latitude</th>\n",
       "      <th>Longitude</th>\n",
       "      <th>PRICE</th>\n",
       "    </tr>\n",
       "  </thead>\n",
       "  <tbody>\n",
       "    <tr>\n",
       "      <th>count</th>\n",
       "      <td>16512.000000</td>\n",
       "      <td>16512.000000</td>\n",
       "      <td>16512.000000</td>\n",
       "      <td>16512.000000</td>\n",
       "      <td>16512.000000</td>\n",
       "      <td>16512.000000</td>\n",
       "      <td>16512.000000</td>\n",
       "      <td>16512.000000</td>\n",
       "      <td>16512.000000</td>\n",
       "      <td>16512.000000</td>\n",
       "    </tr>\n",
       "    <tr>\n",
       "      <th>mean</th>\n",
       "      <td>10311.052931</td>\n",
       "      <td>3.880754</td>\n",
       "      <td>28.608285</td>\n",
       "      <td>5.435235</td>\n",
       "      <td>1.096685</td>\n",
       "      <td>1426.453004</td>\n",
       "      <td>3.096961</td>\n",
       "      <td>35.643149</td>\n",
       "      <td>-119.582290</td>\n",
       "      <td>2.071947</td>\n",
       "    </tr>\n",
       "    <tr>\n",
       "      <th>std</th>\n",
       "      <td>5969.605185</td>\n",
       "      <td>1.904294</td>\n",
       "      <td>12.602499</td>\n",
       "      <td>2.387375</td>\n",
       "      <td>0.433215</td>\n",
       "      <td>1137.056380</td>\n",
       "      <td>11.578744</td>\n",
       "      <td>2.136665</td>\n",
       "      <td>2.005654</td>\n",
       "      <td>1.156226</td>\n",
       "    </tr>\n",
       "    <tr>\n",
       "      <th>min</th>\n",
       "      <td>1.000000</td>\n",
       "      <td>0.499900</td>\n",
       "      <td>1.000000</td>\n",
       "      <td>0.888889</td>\n",
       "      <td>0.333333</td>\n",
       "      <td>3.000000</td>\n",
       "      <td>0.692308</td>\n",
       "      <td>32.550000</td>\n",
       "      <td>-124.350000</td>\n",
       "      <td>0.149990</td>\n",
       "    </tr>\n",
       "    <tr>\n",
       "      <th>25%</th>\n",
       "      <td>5149.750000</td>\n",
       "      <td>2.566700</td>\n",
       "      <td>18.000000</td>\n",
       "      <td>4.452055</td>\n",
       "      <td>1.006508</td>\n",
       "      <td>789.000000</td>\n",
       "      <td>2.428799</td>\n",
       "      <td>33.930000</td>\n",
       "      <td>-121.810000</td>\n",
       "      <td>1.198000</td>\n",
       "    </tr>\n",
       "    <tr>\n",
       "      <th>50%</th>\n",
       "      <td>10338.500000</td>\n",
       "      <td>3.545800</td>\n",
       "      <td>29.000000</td>\n",
       "      <td>5.235874</td>\n",
       "      <td>1.049286</td>\n",
       "      <td>1167.000000</td>\n",
       "      <td>2.817240</td>\n",
       "      <td>34.260000</td>\n",
       "      <td>-118.510000</td>\n",
       "      <td>1.798500</td>\n",
       "    </tr>\n",
       "    <tr>\n",
       "      <th>75%</th>\n",
       "      <td>15476.250000</td>\n",
       "      <td>4.773175</td>\n",
       "      <td>37.000000</td>\n",
       "      <td>6.061037</td>\n",
       "      <td>1.100348</td>\n",
       "      <td>1726.000000</td>\n",
       "      <td>3.280000</td>\n",
       "      <td>37.720000</td>\n",
       "      <td>-118.010000</td>\n",
       "      <td>2.651250</td>\n",
       "    </tr>\n",
       "    <tr>\n",
       "      <th>max</th>\n",
       "      <td>20639.000000</td>\n",
       "      <td>15.000100</td>\n",
       "      <td>52.000000</td>\n",
       "      <td>141.909091</td>\n",
       "      <td>25.636364</td>\n",
       "      <td>35682.000000</td>\n",
       "      <td>1243.333333</td>\n",
       "      <td>41.950000</td>\n",
       "      <td>-114.310000</td>\n",
       "      <td>5.000010</td>\n",
       "    </tr>\n",
       "  </tbody>\n",
       "</table>\n",
       "</div>"
      ],
      "text/plain": [
       "                 Id        MedInc      HouseAge      AveRooms     AveBedrms  \\\n",
       "count  16512.000000  16512.000000  16512.000000  16512.000000  16512.000000   \n",
       "mean   10311.052931      3.880754     28.608285      5.435235      1.096685   \n",
       "std     5969.605185      1.904294     12.602499      2.387375      0.433215   \n",
       "min        1.000000      0.499900      1.000000      0.888889      0.333333   \n",
       "25%     5149.750000      2.566700     18.000000      4.452055      1.006508   \n",
       "50%    10338.500000      3.545800     29.000000      5.235874      1.049286   \n",
       "75%    15476.250000      4.773175     37.000000      6.061037      1.100348   \n",
       "max    20639.000000     15.000100     52.000000    141.909091     25.636364   \n",
       "\n",
       "         Population      AveOccup      Latitude     Longitude         PRICE  \n",
       "count  16512.000000  16512.000000  16512.000000  16512.000000  16512.000000  \n",
       "mean    1426.453004      3.096961     35.643149   -119.582290      2.071947  \n",
       "std     1137.056380     11.578744      2.136665      2.005654      1.156226  \n",
       "min        3.000000      0.692308     32.550000   -124.350000      0.149990  \n",
       "25%      789.000000      2.428799     33.930000   -121.810000      1.198000  \n",
       "50%     1167.000000      2.817240     34.260000   -118.510000      1.798500  \n",
       "75%     1726.000000      3.280000     37.720000   -118.010000      2.651250  \n",
       "max    35682.000000   1243.333333     41.950000   -114.310000      5.000010  "
      ]
     },
     "execution_count": 213,
     "metadata": {},
     "output_type": "execute_result"
    }
   ],
   "source": [
    "# df.head()  # Show first 5 rows\n",
    "# df.tail(3)  # Show last 3 rows\n",
    "# df.shape  # Get number of rows and columns\n",
    "# df.columns  # List column names\n",
    "# df[\"MedInc\"].value_counts() # summary of specific value occurences for a set\n",
    "df.describe()  # Summary statistics for numerical columns\n"
   ]
  },
  {
   "cell_type": "markdown",
   "metadata": {},
   "source": [
    "You can reference specific column names using brackets"
   ]
  },
  {
   "cell_type": "code",
   "execution_count": 214,
   "metadata": {},
   "outputs": [
    {
     "data": {
      "text/html": [
       "<div>\n",
       "<style scoped>\n",
       "    .dataframe tbody tr th:only-of-type {\n",
       "        vertical-align: middle;\n",
       "    }\n",
       "\n",
       "    .dataframe tbody tr th {\n",
       "        vertical-align: top;\n",
       "    }\n",
       "\n",
       "    .dataframe thead th {\n",
       "        text-align: right;\n",
       "    }\n",
       "</style>\n",
       "<table border=\"1\" class=\"dataframe\">\n",
       "  <thead>\n",
       "    <tr style=\"text-align: right;\">\n",
       "      <th></th>\n",
       "      <th>MedInc</th>\n",
       "      <th>HouseAge</th>\n",
       "    </tr>\n",
       "  </thead>\n",
       "  <tbody>\n",
       "    <tr>\n",
       "      <th>0</th>\n",
       "      <td>3.2596</td>\n",
       "      <td>33.0</td>\n",
       "    </tr>\n",
       "    <tr>\n",
       "      <th>1</th>\n",
       "      <td>3.8125</td>\n",
       "      <td>49.0</td>\n",
       "    </tr>\n",
       "    <tr>\n",
       "      <th>2</th>\n",
       "      <td>4.1563</td>\n",
       "      <td>4.0</td>\n",
       "    </tr>\n",
       "    <tr>\n",
       "      <th>3</th>\n",
       "      <td>1.9425</td>\n",
       "      <td>36.0</td>\n",
       "    </tr>\n",
       "    <tr>\n",
       "      <th>4</th>\n",
       "      <td>3.5542</td>\n",
       "      <td>43.0</td>\n",
       "    </tr>\n",
       "    <tr>\n",
       "      <th>...</th>\n",
       "      <td>...</td>\n",
       "      <td>...</td>\n",
       "    </tr>\n",
       "    <tr>\n",
       "      <th>16507</th>\n",
       "      <td>6.3700</td>\n",
       "      <td>35.0</td>\n",
       "    </tr>\n",
       "    <tr>\n",
       "      <th>16508</th>\n",
       "      <td>3.0500</td>\n",
       "      <td>33.0</td>\n",
       "    </tr>\n",
       "    <tr>\n",
       "      <th>16509</th>\n",
       "      <td>2.9344</td>\n",
       "      <td>36.0</td>\n",
       "    </tr>\n",
       "    <tr>\n",
       "      <th>16510</th>\n",
       "      <td>5.7192</td>\n",
       "      <td>15.0</td>\n",
       "    </tr>\n",
       "    <tr>\n",
       "      <th>16511</th>\n",
       "      <td>2.5755</td>\n",
       "      <td>52.0</td>\n",
       "    </tr>\n",
       "  </tbody>\n",
       "</table>\n",
       "<p>16512 rows × 2 columns</p>\n",
       "</div>"
      ],
      "text/plain": [
       "       MedInc  HouseAge\n",
       "0      3.2596      33.0\n",
       "1      3.8125      49.0\n",
       "2      4.1563       4.0\n",
       "3      1.9425      36.0\n",
       "4      3.5542      43.0\n",
       "...       ...       ...\n",
       "16507  6.3700      35.0\n",
       "16508  3.0500      33.0\n",
       "16509  2.9344      36.0\n",
       "16510  5.7192      15.0\n",
       "16511  2.5755      52.0\n",
       "\n",
       "[16512 rows x 2 columns]"
      ]
     },
     "execution_count": 214,
     "metadata": {},
     "output_type": "execute_result"
    }
   ],
   "source": [
    "df[\"MedInc\"]  # Select a single column (returns a Series)\n",
    "df[[\"MedInc\", \"HouseAge\"]]  # Select multiple columns"
   ]
  },
  {
   "cell_type": "markdown",
   "metadata": {},
   "source": [
    "There are two methods to access specific partitions of the dataframe in pandas including `.query()` and bracket notation"
   ]
  },
  {
   "cell_type": "code",
   "execution_count": 215,
   "metadata": {},
   "outputs": [
    {
     "data": {
      "text/html": [
       "<div>\n",
       "<style scoped>\n",
       "    .dataframe tbody tr th:only-of-type {\n",
       "        vertical-align: middle;\n",
       "    }\n",
       "\n",
       "    .dataframe tbody tr th {\n",
       "        vertical-align: top;\n",
       "    }\n",
       "\n",
       "    .dataframe thead th {\n",
       "        text-align: right;\n",
       "    }\n",
       "</style>\n",
       "<table border=\"1\" class=\"dataframe\">\n",
       "  <thead>\n",
       "    <tr style=\"text-align: right;\">\n",
       "      <th></th>\n",
       "      <th>Id</th>\n",
       "      <th>MedInc</th>\n",
       "      <th>HouseAge</th>\n",
       "      <th>AveRooms</th>\n",
       "      <th>AveBedrms</th>\n",
       "      <th>Population</th>\n",
       "      <th>AveOccup</th>\n",
       "      <th>Latitude</th>\n",
       "      <th>Longitude</th>\n",
       "      <th>PRICE</th>\n",
       "    </tr>\n",
       "  </thead>\n",
       "  <tbody>\n",
       "    <tr>\n",
       "      <th>7</th>\n",
       "      <td>9389</td>\n",
       "      <td>7.9892</td>\n",
       "      <td>37.0</td>\n",
       "      <td>6.052758</td>\n",
       "      <td>0.954436</td>\n",
       "      <td>999.0</td>\n",
       "      <td>2.395683</td>\n",
       "      <td>37.91</td>\n",
       "      <td>-122.53</td>\n",
       "      <td>5.00001</td>\n",
       "    </tr>\n",
       "    <tr>\n",
       "      <th>21</th>\n",
       "      <td>18056</td>\n",
       "      <td>8.5425</td>\n",
       "      <td>35.0</td>\n",
       "      <td>7.508403</td>\n",
       "      <td>1.018908</td>\n",
       "      <td>1325.0</td>\n",
       "      <td>2.783613</td>\n",
       "      <td>37.24</td>\n",
       "      <td>-121.98</td>\n",
       "      <td>5.00001</td>\n",
       "    </tr>\n",
       "    <tr>\n",
       "      <th>40</th>\n",
       "      <td>5252</td>\n",
       "      <td>11.1978</td>\n",
       "      <td>32.0</td>\n",
       "      <td>7.270344</td>\n",
       "      <td>1.031646</td>\n",
       "      <td>2768.0</td>\n",
       "      <td>2.502712</td>\n",
       "      <td>34.10</td>\n",
       "      <td>-118.47</td>\n",
       "      <td>5.00001</td>\n",
       "    </tr>\n",
       "    <tr>\n",
       "      <th>43</th>\n",
       "      <td>5549</td>\n",
       "      <td>6.0190</td>\n",
       "      <td>42.0</td>\n",
       "      <td>5.702454</td>\n",
       "      <td>1.033742</td>\n",
       "      <td>813.0</td>\n",
       "      <td>2.493865</td>\n",
       "      <td>33.97</td>\n",
       "      <td>-118.38</td>\n",
       "      <td>2.94500</td>\n",
       "    </tr>\n",
       "    <tr>\n",
       "      <th>92</th>\n",
       "      <td>16394</td>\n",
       "      <td>6.6605</td>\n",
       "      <td>29.0</td>\n",
       "      <td>7.825397</td>\n",
       "      <td>1.038095</td>\n",
       "      <td>859.0</td>\n",
       "      <td>2.726984</td>\n",
       "      <td>38.03</td>\n",
       "      <td>-121.25</td>\n",
       "      <td>2.20700</td>\n",
       "    </tr>\n",
       "    <tr>\n",
       "      <th>...</th>\n",
       "      <td>...</td>\n",
       "      <td>...</td>\n",
       "      <td>...</td>\n",
       "      <td>...</td>\n",
       "      <td>...</td>\n",
       "      <td>...</td>\n",
       "      <td>...</td>\n",
       "      <td>...</td>\n",
       "      <td>...</td>\n",
       "      <td>...</td>\n",
       "    </tr>\n",
       "    <tr>\n",
       "      <th>16469</th>\n",
       "      <td>11016</td>\n",
       "      <td>6.2944</td>\n",
       "      <td>33.0</td>\n",
       "      <td>6.815725</td>\n",
       "      <td>1.051597</td>\n",
       "      <td>1229.0</td>\n",
       "      <td>3.019656</td>\n",
       "      <td>33.76</td>\n",
       "      <td>-117.82</td>\n",
       "      <td>2.65600</td>\n",
       "    </tr>\n",
       "    <tr>\n",
       "      <th>16474</th>\n",
       "      <td>8792</td>\n",
       "      <td>11.9993</td>\n",
       "      <td>31.0</td>\n",
       "      <td>8.324090</td>\n",
       "      <td>0.996534</td>\n",
       "      <td>1490.0</td>\n",
       "      <td>2.582322</td>\n",
       "      <td>33.80</td>\n",
       "      <td>-118.45</td>\n",
       "      <td>5.00001</td>\n",
       "    </tr>\n",
       "    <tr>\n",
       "      <th>16479</th>\n",
       "      <td>3556</td>\n",
       "      <td>8.5650</td>\n",
       "      <td>31.0</td>\n",
       "      <td>8.107438</td>\n",
       "      <td>1.004132</td>\n",
       "      <td>697.0</td>\n",
       "      <td>2.880165</td>\n",
       "      <td>34.25</td>\n",
       "      <td>-118.56</td>\n",
       "      <td>5.00001</td>\n",
       "    </tr>\n",
       "    <tr>\n",
       "      <th>16481</th>\n",
       "      <td>17912</td>\n",
       "      <td>7.8543</td>\n",
       "      <td>35.0</td>\n",
       "      <td>5.986111</td>\n",
       "      <td>1.032407</td>\n",
       "      <td>701.0</td>\n",
       "      <td>3.245370</td>\n",
       "      <td>37.36</td>\n",
       "      <td>-121.98</td>\n",
       "      <td>2.81900</td>\n",
       "    </tr>\n",
       "    <tr>\n",
       "      <th>16507</th>\n",
       "      <td>11284</td>\n",
       "      <td>6.3700</td>\n",
       "      <td>35.0</td>\n",
       "      <td>6.129032</td>\n",
       "      <td>0.926267</td>\n",
       "      <td>658.0</td>\n",
       "      <td>3.032258</td>\n",
       "      <td>33.78</td>\n",
       "      <td>-117.96</td>\n",
       "      <td>2.29200</td>\n",
       "    </tr>\n",
       "  </tbody>\n",
       "</table>\n",
       "<p>1394 rows × 10 columns</p>\n",
       "</div>"
      ],
      "text/plain": [
       "          Id   MedInc  HouseAge  AveRooms  AveBedrms  Population  AveOccup  \\\n",
       "7       9389   7.9892      37.0  6.052758   0.954436       999.0  2.395683   \n",
       "21     18056   8.5425      35.0  7.508403   1.018908      1325.0  2.783613   \n",
       "40      5252  11.1978      32.0  7.270344   1.031646      2768.0  2.502712   \n",
       "43      5549   6.0190      42.0  5.702454   1.033742       813.0  2.493865   \n",
       "92     16394   6.6605      29.0  7.825397   1.038095       859.0  2.726984   \n",
       "...      ...      ...       ...       ...        ...         ...       ...   \n",
       "16469  11016   6.2944      33.0  6.815725   1.051597      1229.0  3.019656   \n",
       "16474   8792  11.9993      31.0  8.324090   0.996534      1490.0  2.582322   \n",
       "16479   3556   8.5650      31.0  8.107438   1.004132       697.0  2.880165   \n",
       "16481  17912   7.8543      35.0  5.986111   1.032407       701.0  3.245370   \n",
       "16507  11284   6.3700      35.0  6.129032   0.926267       658.0  3.032258   \n",
       "\n",
       "       Latitude  Longitude    PRICE  \n",
       "7         37.91    -122.53  5.00001  \n",
       "21        37.24    -121.98  5.00001  \n",
       "40        34.10    -118.47  5.00001  \n",
       "43        33.97    -118.38  2.94500  \n",
       "92        38.03    -121.25  2.20700  \n",
       "...         ...        ...      ...  \n",
       "16469     33.76    -117.82  2.65600  \n",
       "16474     33.80    -118.45  5.00001  \n",
       "16479     34.25    -118.56  5.00001  \n",
       "16481     37.36    -121.98  2.81900  \n",
       "16507     33.78    -117.96  2.29200  \n",
       "\n",
       "[1394 rows x 10 columns]"
      ]
     },
     "execution_count": 215,
     "metadata": {},
     "output_type": "execute_result"
    }
   ],
   "source": [
    "df.query(\"MedInc > 5.6431 and HouseAge > 20\")"
   ]
  },
  {
   "cell_type": "code",
   "execution_count": 216,
   "metadata": {},
   "outputs": [
    {
     "data": {
      "text/html": [
       "<div>\n",
       "<style scoped>\n",
       "    .dataframe tbody tr th:only-of-type {\n",
       "        vertical-align: middle;\n",
       "    }\n",
       "\n",
       "    .dataframe tbody tr th {\n",
       "        vertical-align: top;\n",
       "    }\n",
       "\n",
       "    .dataframe thead th {\n",
       "        text-align: right;\n",
       "    }\n",
       "</style>\n",
       "<table border=\"1\" class=\"dataframe\">\n",
       "  <thead>\n",
       "    <tr style=\"text-align: right;\">\n",
       "      <th></th>\n",
       "      <th>Id</th>\n",
       "      <th>MedInc</th>\n",
       "      <th>HouseAge</th>\n",
       "      <th>AveRooms</th>\n",
       "      <th>AveBedrms</th>\n",
       "      <th>Population</th>\n",
       "      <th>AveOccup</th>\n",
       "      <th>Latitude</th>\n",
       "      <th>Longitude</th>\n",
       "      <th>PRICE</th>\n",
       "    </tr>\n",
       "  </thead>\n",
       "  <tbody>\n",
       "    <tr>\n",
       "      <th>7</th>\n",
       "      <td>9389</td>\n",
       "      <td>7.9892</td>\n",
       "      <td>37.0</td>\n",
       "      <td>6.052758</td>\n",
       "      <td>0.954436</td>\n",
       "      <td>999.0</td>\n",
       "      <td>2.395683</td>\n",
       "      <td>37.91</td>\n",
       "      <td>-122.53</td>\n",
       "      <td>5.00001</td>\n",
       "    </tr>\n",
       "    <tr>\n",
       "      <th>21</th>\n",
       "      <td>18056</td>\n",
       "      <td>8.5425</td>\n",
       "      <td>35.0</td>\n",
       "      <td>7.508403</td>\n",
       "      <td>1.018908</td>\n",
       "      <td>1325.0</td>\n",
       "      <td>2.783613</td>\n",
       "      <td>37.24</td>\n",
       "      <td>-121.98</td>\n",
       "      <td>5.00001</td>\n",
       "    </tr>\n",
       "    <tr>\n",
       "      <th>25</th>\n",
       "      <td>413</td>\n",
       "      <td>5.4171</td>\n",
       "      <td>52.0</td>\n",
       "      <td>6.764706</td>\n",
       "      <td>1.075163</td>\n",
       "      <td>722.0</td>\n",
       "      <td>2.359477</td>\n",
       "      <td>37.89</td>\n",
       "      <td>-122.28</td>\n",
       "      <td>2.92000</td>\n",
       "    </tr>\n",
       "    <tr>\n",
       "      <th>40</th>\n",
       "      <td>5252</td>\n",
       "      <td>11.1978</td>\n",
       "      <td>32.0</td>\n",
       "      <td>7.270344</td>\n",
       "      <td>1.031646</td>\n",
       "      <td>2768.0</td>\n",
       "      <td>2.502712</td>\n",
       "      <td>34.10</td>\n",
       "      <td>-118.47</td>\n",
       "      <td>5.00001</td>\n",
       "    </tr>\n",
       "    <tr>\n",
       "      <th>43</th>\n",
       "      <td>5549</td>\n",
       "      <td>6.0190</td>\n",
       "      <td>42.0</td>\n",
       "      <td>5.702454</td>\n",
       "      <td>1.033742</td>\n",
       "      <td>813.0</td>\n",
       "      <td>2.493865</td>\n",
       "      <td>33.97</td>\n",
       "      <td>-118.38</td>\n",
       "      <td>2.94500</td>\n",
       "    </tr>\n",
       "    <tr>\n",
       "      <th>...</th>\n",
       "      <td>...</td>\n",
       "      <td>...</td>\n",
       "      <td>...</td>\n",
       "      <td>...</td>\n",
       "      <td>...</td>\n",
       "      <td>...</td>\n",
       "      <td>...</td>\n",
       "      <td>...</td>\n",
       "      <td>...</td>\n",
       "      <td>...</td>\n",
       "    </tr>\n",
       "    <tr>\n",
       "      <th>16479</th>\n",
       "      <td>3556</td>\n",
       "      <td>8.5650</td>\n",
       "      <td>31.0</td>\n",
       "      <td>8.107438</td>\n",
       "      <td>1.004132</td>\n",
       "      <td>697.0</td>\n",
       "      <td>2.880165</td>\n",
       "      <td>34.25</td>\n",
       "      <td>-118.56</td>\n",
       "      <td>5.00001</td>\n",
       "    </tr>\n",
       "    <tr>\n",
       "      <th>16481</th>\n",
       "      <td>17912</td>\n",
       "      <td>7.8543</td>\n",
       "      <td>35.0</td>\n",
       "      <td>5.986111</td>\n",
       "      <td>1.032407</td>\n",
       "      <td>701.0</td>\n",
       "      <td>3.245370</td>\n",
       "      <td>37.36</td>\n",
       "      <td>-121.98</td>\n",
       "      <td>2.81900</td>\n",
       "    </tr>\n",
       "    <tr>\n",
       "      <th>16496</th>\n",
       "      <td>5311</td>\n",
       "      <td>5.3777</td>\n",
       "      <td>41.0</td>\n",
       "      <td>5.479401</td>\n",
       "      <td>1.000000</td>\n",
       "      <td>601.0</td>\n",
       "      <td>2.250936</td>\n",
       "      <td>34.06</td>\n",
       "      <td>-118.43</td>\n",
       "      <td>5.00001</td>\n",
       "    </tr>\n",
       "    <tr>\n",
       "      <th>16501</th>\n",
       "      <td>16023</td>\n",
       "      <td>5.1238</td>\n",
       "      <td>52.0</td>\n",
       "      <td>6.167076</td>\n",
       "      <td>1.076167</td>\n",
       "      <td>1153.0</td>\n",
       "      <td>2.832924</td>\n",
       "      <td>37.73</td>\n",
       "      <td>-122.45</td>\n",
       "      <td>3.35100</td>\n",
       "    </tr>\n",
       "    <tr>\n",
       "      <th>16507</th>\n",
       "      <td>11284</td>\n",
       "      <td>6.3700</td>\n",
       "      <td>35.0</td>\n",
       "      <td>6.129032</td>\n",
       "      <td>0.926267</td>\n",
       "      <td>658.0</td>\n",
       "      <td>3.032258</td>\n",
       "      <td>33.78</td>\n",
       "      <td>-117.96</td>\n",
       "      <td>2.29200</td>\n",
       "    </tr>\n",
       "  </tbody>\n",
       "</table>\n",
       "<p>2221 rows × 10 columns</p>\n",
       "</div>"
      ],
      "text/plain": [
       "          Id   MedInc  HouseAge  AveRooms  AveBedrms  Population  AveOccup  \\\n",
       "7       9389   7.9892      37.0  6.052758   0.954436       999.0  2.395683   \n",
       "21     18056   8.5425      35.0  7.508403   1.018908      1325.0  2.783613   \n",
       "25       413   5.4171      52.0  6.764706   1.075163       722.0  2.359477   \n",
       "40      5252  11.1978      32.0  7.270344   1.031646      2768.0  2.502712   \n",
       "43      5549   6.0190      42.0  5.702454   1.033742       813.0  2.493865   \n",
       "...      ...      ...       ...       ...        ...         ...       ...   \n",
       "16479   3556   8.5650      31.0  8.107438   1.004132       697.0  2.880165   \n",
       "16481  17912   7.8543      35.0  5.986111   1.032407       701.0  3.245370   \n",
       "16496   5311   5.3777      41.0  5.479401   1.000000       601.0  2.250936   \n",
       "16501  16023   5.1238      52.0  6.167076   1.076167      1153.0  2.832924   \n",
       "16507  11284   6.3700      35.0  6.129032   0.926267       658.0  3.032258   \n",
       "\n",
       "       Latitude  Longitude    PRICE  \n",
       "7         37.91    -122.53  5.00001  \n",
       "21        37.24    -121.98  5.00001  \n",
       "25        37.89    -122.28  2.92000  \n",
       "40        34.10    -118.47  5.00001  \n",
       "43        33.97    -118.38  2.94500  \n",
       "...         ...        ...      ...  \n",
       "16479     34.25    -118.56  5.00001  \n",
       "16481     37.36    -121.98  2.81900  \n",
       "16496     34.06    -118.43  5.00001  \n",
       "16501     37.73    -122.45  3.35100  \n",
       "16507     33.78    -117.96  2.29200  \n",
       "\n",
       "[2221 rows x 10 columns]"
      ]
     },
     "execution_count": 216,
     "metadata": {},
     "output_type": "execute_result"
    }
   ],
   "source": [
    "df[(df[\"MedInc\"] > 5) & (df[\"HouseAge\"] > 20)]"
   ]
  },
  {
   "cell_type": "code",
   "execution_count": 217,
   "metadata": {},
   "outputs": [
    {
     "data": {
      "text/html": [
       "<div>\n",
       "<style scoped>\n",
       "    .dataframe tbody tr th:only-of-type {\n",
       "        vertical-align: middle;\n",
       "    }\n",
       "\n",
       "    .dataframe tbody tr th {\n",
       "        vertical-align: top;\n",
       "    }\n",
       "\n",
       "    .dataframe thead th {\n",
       "        text-align: right;\n",
       "    }\n",
       "</style>\n",
       "<table border=\"1\" class=\"dataframe\">\n",
       "  <thead>\n",
       "    <tr style=\"text-align: right;\">\n",
       "      <th></th>\n",
       "      <th>Id</th>\n",
       "      <th>MedInc</th>\n",
       "      <th>HouseAge</th>\n",
       "      <th>AveRooms</th>\n",
       "      <th>AveBedrms</th>\n",
       "      <th>Population</th>\n",
       "      <th>AveOccup</th>\n",
       "      <th>Latitude</th>\n",
       "      <th>Longitude</th>\n",
       "      <th>PRICE</th>\n",
       "    </tr>\n",
       "  </thead>\n",
       "  <tbody>\n",
       "    <tr>\n",
       "      <th>0</th>\n",
       "      <td>14196</td>\n",
       "      <td>3.2596</td>\n",
       "      <td>33.0</td>\n",
       "      <td>5.017657</td>\n",
       "      <td>1.006421</td>\n",
       "      <td>2300.0</td>\n",
       "      <td>3.691814</td>\n",
       "      <td>32.71</td>\n",
       "      <td>-117.03</td>\n",
       "      <td>1.030</td>\n",
       "    </tr>\n",
       "    <tr>\n",
       "      <th>1</th>\n",
       "      <td>8267</td>\n",
       "      <td>3.8125</td>\n",
       "      <td>49.0</td>\n",
       "      <td>4.473545</td>\n",
       "      <td>1.041005</td>\n",
       "      <td>1314.0</td>\n",
       "      <td>1.738095</td>\n",
       "      <td>33.77</td>\n",
       "      <td>-118.16</td>\n",
       "      <td>3.821</td>\n",
       "    </tr>\n",
       "    <tr>\n",
       "      <th>3</th>\n",
       "      <td>14265</td>\n",
       "      <td>1.9425</td>\n",
       "      <td>36.0</td>\n",
       "      <td>4.002817</td>\n",
       "      <td>1.033803</td>\n",
       "      <td>1418.0</td>\n",
       "      <td>3.994366</td>\n",
       "      <td>32.69</td>\n",
       "      <td>-117.11</td>\n",
       "      <td>0.934</td>\n",
       "    </tr>\n",
       "    <tr>\n",
       "      <th>4</th>\n",
       "      <td>2271</td>\n",
       "      <td>3.5542</td>\n",
       "      <td>43.0</td>\n",
       "      <td>6.268421</td>\n",
       "      <td>1.134211</td>\n",
       "      <td>874.0</td>\n",
       "      <td>2.300000</td>\n",
       "      <td>36.78</td>\n",
       "      <td>-119.80</td>\n",
       "      <td>0.965</td>\n",
       "    </tr>\n",
       "    <tr>\n",
       "      <th>5</th>\n",
       "      <td>17848</td>\n",
       "      <td>6.6227</td>\n",
       "      <td>20.0</td>\n",
       "      <td>6.282147</td>\n",
       "      <td>1.008739</td>\n",
       "      <td>2695.0</td>\n",
       "      <td>3.364544</td>\n",
       "      <td>37.42</td>\n",
       "      <td>-121.86</td>\n",
       "      <td>2.648</td>\n",
       "    </tr>\n",
       "    <tr>\n",
       "      <th>...</th>\n",
       "      <td>...</td>\n",
       "      <td>...</td>\n",
       "      <td>...</td>\n",
       "      <td>...</td>\n",
       "      <td>...</td>\n",
       "      <td>...</td>\n",
       "      <td>...</td>\n",
       "      <td>...</td>\n",
       "      <td>...</td>\n",
       "      <td>...</td>\n",
       "    </tr>\n",
       "    <tr>\n",
       "      <th>16507</th>\n",
       "      <td>11284</td>\n",
       "      <td>6.3700</td>\n",
       "      <td>35.0</td>\n",
       "      <td>6.129032</td>\n",
       "      <td>0.926267</td>\n",
       "      <td>658.0</td>\n",
       "      <td>3.032258</td>\n",
       "      <td>33.78</td>\n",
       "      <td>-117.96</td>\n",
       "      <td>2.292</td>\n",
       "    </tr>\n",
       "    <tr>\n",
       "      <th>16508</th>\n",
       "      <td>11964</td>\n",
       "      <td>3.0500</td>\n",
       "      <td>33.0</td>\n",
       "      <td>6.868597</td>\n",
       "      <td>1.269488</td>\n",
       "      <td>1753.0</td>\n",
       "      <td>3.904232</td>\n",
       "      <td>34.02</td>\n",
       "      <td>-117.43</td>\n",
       "      <td>0.978</td>\n",
       "    </tr>\n",
       "    <tr>\n",
       "      <th>16509</th>\n",
       "      <td>5390</td>\n",
       "      <td>2.9344</td>\n",
       "      <td>36.0</td>\n",
       "      <td>3.986717</td>\n",
       "      <td>1.079696</td>\n",
       "      <td>1756.0</td>\n",
       "      <td>3.332068</td>\n",
       "      <td>34.03</td>\n",
       "      <td>-118.38</td>\n",
       "      <td>2.221</td>\n",
       "    </tr>\n",
       "    <tr>\n",
       "      <th>16510</th>\n",
       "      <td>860</td>\n",
       "      <td>5.7192</td>\n",
       "      <td>15.0</td>\n",
       "      <td>6.395349</td>\n",
       "      <td>1.067979</td>\n",
       "      <td>1777.0</td>\n",
       "      <td>3.178891</td>\n",
       "      <td>37.58</td>\n",
       "      <td>-121.96</td>\n",
       "      <td>2.835</td>\n",
       "    </tr>\n",
       "    <tr>\n",
       "      <th>16511</th>\n",
       "      <td>15795</td>\n",
       "      <td>2.5755</td>\n",
       "      <td>52.0</td>\n",
       "      <td>3.402576</td>\n",
       "      <td>1.058776</td>\n",
       "      <td>2619.0</td>\n",
       "      <td>2.108696</td>\n",
       "      <td>37.77</td>\n",
       "      <td>-122.42</td>\n",
       "      <td>3.250</td>\n",
       "    </tr>\n",
       "  </tbody>\n",
       "</table>\n",
       "<p>12883 rows × 10 columns</p>\n",
       "</div>"
      ],
      "text/plain": [
       "          Id  MedInc  HouseAge  AveRooms  AveBedrms  Population  AveOccup  \\\n",
       "0      14196  3.2596      33.0  5.017657   1.006421      2300.0  3.691814   \n",
       "1       8267  3.8125      49.0  4.473545   1.041005      1314.0  1.738095   \n",
       "3      14265  1.9425      36.0  4.002817   1.033803      1418.0  3.994366   \n",
       "4       2271  3.5542      43.0  6.268421   1.134211       874.0  2.300000   \n",
       "5      17848  6.6227      20.0  6.282147   1.008739      2695.0  3.364544   \n",
       "...      ...     ...       ...       ...        ...         ...       ...   \n",
       "16507  11284  6.3700      35.0  6.129032   0.926267       658.0  3.032258   \n",
       "16508  11964  3.0500      33.0  6.868597   1.269488      1753.0  3.904232   \n",
       "16509   5390  2.9344      36.0  3.986717   1.079696      1756.0  3.332068   \n",
       "16510    860  5.7192      15.0  6.395349   1.067979      1777.0  3.178891   \n",
       "16511  15795  2.5755      52.0  3.402576   1.058776      2619.0  2.108696   \n",
       "\n",
       "       Latitude  Longitude  PRICE  \n",
       "0         32.71    -117.03  1.030  \n",
       "1         33.77    -118.16  3.821  \n",
       "3         32.69    -117.11  0.934  \n",
       "4         36.78    -119.80  0.965  \n",
       "5         37.42    -121.86  2.648  \n",
       "...         ...        ...    ...  \n",
       "16507     33.78    -117.96  2.292  \n",
       "16508     34.02    -117.43  0.978  \n",
       "16509     34.03    -118.38  2.221  \n",
       "16510     37.58    -121.96  2.835  \n",
       "16511     37.77    -122.42  3.250  \n",
       "\n",
       "[12883 rows x 10 columns]"
      ]
     },
     "execution_count": 217,
     "metadata": {},
     "output_type": "execute_result"
    }
   ],
   "source": [
    "df[(df[\"MedInc\"] > 5) | (df[\"HouseAge\"] > 20)]"
   ]
  },
  {
   "cell_type": "markdown",
   "metadata": {},
   "source": [
    "We can also get specfic rows and columns using `.iloc[]` and `.loc[]`"
   ]
  },
  {
   "cell_type": "code",
   "execution_count": 218,
   "metadata": {},
   "outputs": [
    {
     "data": {
      "text/plain": [
       "0        33.0\n",
       "1        49.0\n",
       "2         4.0\n",
       "3        36.0\n",
       "4        43.0\n",
       "         ... \n",
       "16507    35.0\n",
       "16508    33.0\n",
       "16509    36.0\n",
       "16510    15.0\n",
       "16511    52.0\n",
       "Name: HouseAge, Length: 16512, dtype: float64"
      ]
     },
     "execution_count": 218,
     "metadata": {},
     "output_type": "execute_result"
    }
   ],
   "source": [
    "df.iloc[0]  # Select first row (by index)\n",
    "df.iloc[:3]  # Select first three rows\n",
    "\n",
    "df.loc[0, \"MedInc\"]  # Select a specific value (row 0, column \"Name\")\n",
    "df.loc[:, \"HouseAge\"]  # Select all rows for \"Age\" column"
   ]
  },
  {
   "cell_type": "markdown",
   "metadata": {},
   "source": [
    "The next pandas operations we will cover is sorting which you can do in ascending and descending order and also across multiple columns\n",
    "\n",
    "args:\n",
    "\n",
    "`by` decides which columns to sort by\n",
    "\n",
    "`ascending` dictates the order of sorting (increasing, decreasing)"
   ]
  },
  {
   "cell_type": "code",
   "execution_count": 219,
   "metadata": {},
   "outputs": [
    {
     "data": {
      "text/html": [
       "<div>\n",
       "<style scoped>\n",
       "    .dataframe tbody tr th:only-of-type {\n",
       "        vertical-align: middle;\n",
       "    }\n",
       "\n",
       "    .dataframe tbody tr th {\n",
       "        vertical-align: top;\n",
       "    }\n",
       "\n",
       "    .dataframe thead th {\n",
       "        text-align: right;\n",
       "    }\n",
       "</style>\n",
       "<table border=\"1\" class=\"dataframe\">\n",
       "  <thead>\n",
       "    <tr style=\"text-align: right;\">\n",
       "      <th></th>\n",
       "      <th>Id</th>\n",
       "      <th>MedInc</th>\n",
       "      <th>HouseAge</th>\n",
       "      <th>AveRooms</th>\n",
       "      <th>AveBedrms</th>\n",
       "      <th>Population</th>\n",
       "      <th>AveOccup</th>\n",
       "      <th>Latitude</th>\n",
       "      <th>Longitude</th>\n",
       "      <th>PRICE</th>\n",
       "    </tr>\n",
       "  </thead>\n",
       "  <tbody>\n",
       "    <tr>\n",
       "      <th>3811</th>\n",
       "      <td>18972</td>\n",
       "      <td>5.2636</td>\n",
       "      <td>1.0</td>\n",
       "      <td>7.694030</td>\n",
       "      <td>1.279851</td>\n",
       "      <td>872.0</td>\n",
       "      <td>3.253731</td>\n",
       "      <td>38.23</td>\n",
       "      <td>-122.00</td>\n",
       "      <td>1.91300</td>\n",
       "    </tr>\n",
       "    <tr>\n",
       "      <th>6230</th>\n",
       "      <td>3130</td>\n",
       "      <td>4.8750</td>\n",
       "      <td>1.0</td>\n",
       "      <td>5.533333</td>\n",
       "      <td>1.000000</td>\n",
       "      <td>32.0</td>\n",
       "      <td>2.133333</td>\n",
       "      <td>35.08</td>\n",
       "      <td>-117.95</td>\n",
       "      <td>1.41700</td>\n",
       "    </tr>\n",
       "    <tr>\n",
       "      <th>8120</th>\n",
       "      <td>19536</td>\n",
       "      <td>4.2500</td>\n",
       "      <td>1.0</td>\n",
       "      <td>20.125000</td>\n",
       "      <td>2.928571</td>\n",
       "      <td>402.0</td>\n",
       "      <td>3.589286</td>\n",
       "      <td>37.65</td>\n",
       "      <td>-120.93</td>\n",
       "      <td>1.89200</td>\n",
       "    </tr>\n",
       "    <tr>\n",
       "      <th>1596</th>\n",
       "      <td>1566</td>\n",
       "      <td>15.0001</td>\n",
       "      <td>2.0</td>\n",
       "      <td>22.222222</td>\n",
       "      <td>2.222222</td>\n",
       "      <td>25.0</td>\n",
       "      <td>2.777778</td>\n",
       "      <td>37.74</td>\n",
       "      <td>-121.96</td>\n",
       "      <td>3.50000</td>\n",
       "    </tr>\n",
       "    <tr>\n",
       "      <th>2497</th>\n",
       "      <td>13177</td>\n",
       "      <td>8.4411</td>\n",
       "      <td>2.0</td>\n",
       "      <td>10.296296</td>\n",
       "      <td>1.166667</td>\n",
       "      <td>179.0</td>\n",
       "      <td>3.314815</td>\n",
       "      <td>33.97</td>\n",
       "      <td>-117.78</td>\n",
       "      <td>5.00001</td>\n",
       "    </tr>\n",
       "    <tr>\n",
       "      <th>...</th>\n",
       "      <td>...</td>\n",
       "      <td>...</td>\n",
       "      <td>...</td>\n",
       "      <td>...</td>\n",
       "      <td>...</td>\n",
       "      <td>...</td>\n",
       "      <td>...</td>\n",
       "      <td>...</td>\n",
       "      <td>...</td>\n",
       "      <td>...</td>\n",
       "    </tr>\n",
       "    <tr>\n",
       "      <th>1392</th>\n",
       "      <td>16204</td>\n",
       "      <td>0.6960</td>\n",
       "      <td>52.0</td>\n",
       "      <td>5.333333</td>\n",
       "      <td>1.592593</td>\n",
       "      <td>272.0</td>\n",
       "      <td>5.037037</td>\n",
       "      <td>37.95</td>\n",
       "      <td>-121.29</td>\n",
       "      <td>0.42500</td>\n",
       "    </tr>\n",
       "    <tr>\n",
       "      <th>12218</th>\n",
       "      <td>14348</td>\n",
       "      <td>0.5360</td>\n",
       "      <td>52.0</td>\n",
       "      <td>5.000000</td>\n",
       "      <td>1.000000</td>\n",
       "      <td>13.0</td>\n",
       "      <td>2.600000</td>\n",
       "      <td>32.75</td>\n",
       "      <td>-117.19</td>\n",
       "      <td>1.62500</td>\n",
       "    </tr>\n",
       "    <tr>\n",
       "      <th>8410</th>\n",
       "      <td>6343</td>\n",
       "      <td>0.4999</td>\n",
       "      <td>52.0</td>\n",
       "      <td>3.875000</td>\n",
       "      <td>0.562500</td>\n",
       "      <td>44.0</td>\n",
       "      <td>2.750000</td>\n",
       "      <td>34.06</td>\n",
       "      <td>-117.75</td>\n",
       "      <td>1.12500</td>\n",
       "    </tr>\n",
       "    <tr>\n",
       "      <th>10977</th>\n",
       "      <td>19523</td>\n",
       "      <td>0.4999</td>\n",
       "      <td>52.0</td>\n",
       "      <td>2.870968</td>\n",
       "      <td>0.854839</td>\n",
       "      <td>152.0</td>\n",
       "      <td>2.451613</td>\n",
       "      <td>37.65</td>\n",
       "      <td>-121.01</td>\n",
       "      <td>0.82500</td>\n",
       "    </tr>\n",
       "    <tr>\n",
       "      <th>12600</th>\n",
       "      <td>5213</td>\n",
       "      <td>0.4999</td>\n",
       "      <td>52.0</td>\n",
       "      <td>2.600000</td>\n",
       "      <td>0.733333</td>\n",
       "      <td>74.0</td>\n",
       "      <td>1.644444</td>\n",
       "      <td>33.93</td>\n",
       "      <td>-118.28</td>\n",
       "      <td>0.90600</td>\n",
       "    </tr>\n",
       "  </tbody>\n",
       "</table>\n",
       "<p>16512 rows × 10 columns</p>\n",
       "</div>"
      ],
      "text/plain": [
       "          Id   MedInc  HouseAge   AveRooms  AveBedrms  Population  AveOccup  \\\n",
       "3811   18972   5.2636       1.0   7.694030   1.279851       872.0  3.253731   \n",
       "6230    3130   4.8750       1.0   5.533333   1.000000        32.0  2.133333   \n",
       "8120   19536   4.2500       1.0  20.125000   2.928571       402.0  3.589286   \n",
       "1596    1566  15.0001       2.0  22.222222   2.222222        25.0  2.777778   \n",
       "2497   13177   8.4411       2.0  10.296296   1.166667       179.0  3.314815   \n",
       "...      ...      ...       ...        ...        ...         ...       ...   \n",
       "1392   16204   0.6960      52.0   5.333333   1.592593       272.0  5.037037   \n",
       "12218  14348   0.5360      52.0   5.000000   1.000000        13.0  2.600000   \n",
       "8410    6343   0.4999      52.0   3.875000   0.562500        44.0  2.750000   \n",
       "10977  19523   0.4999      52.0   2.870968   0.854839       152.0  2.451613   \n",
       "12600   5213   0.4999      52.0   2.600000   0.733333        74.0  1.644444   \n",
       "\n",
       "       Latitude  Longitude    PRICE  \n",
       "3811      38.23    -122.00  1.91300  \n",
       "6230      35.08    -117.95  1.41700  \n",
       "8120      37.65    -120.93  1.89200  \n",
       "1596      37.74    -121.96  3.50000  \n",
       "2497      33.97    -117.78  5.00001  \n",
       "...         ...        ...      ...  \n",
       "1392      37.95    -121.29  0.42500  \n",
       "12218     32.75    -117.19  1.62500  \n",
       "8410      34.06    -117.75  1.12500  \n",
       "10977     37.65    -121.01  0.82500  \n",
       "12600     33.93    -118.28  0.90600  \n",
       "\n",
       "[16512 rows x 10 columns]"
      ]
     },
     "execution_count": 219,
     "metadata": {},
     "output_type": "execute_result"
    }
   ],
   "source": [
    "df.sort_values(by=\"HouseAge\")  # Sort by HouseAge (ascending)\n",
    "df.sort_values(by=\"HouseAge\", ascending=False)  # Sort by HouseAge (descending)\n",
    "df.sort_values(by=[\"HouseAge\", \"MedInc\"], ascending=[True, False])  # Sort by multiple columns"
   ]
  },
  {
   "cell_type": "markdown",
   "metadata": {},
   "source": [
    "Now that you have an understanding of how to view different parts of the dataframe, you can create your own columns using the below commands"
   ]
  },
  {
   "cell_type": "code",
   "execution_count": 220,
   "metadata": {},
   "outputs": [],
   "source": [
    "df[\"MedIncNorm\"] = (df[\"MedInc\"] - min(df[\"MedInc\"])) / (max(df[\"MedInc\"]) - min(df[\"MedInc\"]))  # Adding new column normalizing between 0-1"
   ]
  },
  {
   "cell_type": "markdown",
   "metadata": {},
   "source": [
    "If you realize adding that column is a dumb ass idea, you can `.drop()` the column\n",
    "\n",
    "`axis` indicates whether to do the operation across all column or all rows (axis = 1 performs operations across rows and axis = 0 performs operations across columns)\n",
    "\n",
    "`inplace` dictates whether you mutate the original dataframe or create a copy dataframe with the operation updated"
   ]
  },
  {
   "cell_type": "code",
   "execution_count": 221,
   "metadata": {},
   "outputs": [],
   "source": [
    "#TODO: Drop MedIncNorm column from dataframe"
   ]
  },
  {
   "cell_type": "markdown",
   "metadata": {},
   "source": [
    "Finally, we'll explore aggregation & grouping across columns"
   ]
  },
  {
   "cell_type": "code",
   "execution_count": 222,
   "metadata": {},
   "outputs": [
    {
     "data": {
      "text/plain": [
       "np.float64(0.4999)"
      ]
     },
     "execution_count": 222,
     "metadata": {},
     "output_type": "execute_result"
    }
   ],
   "source": [
    "df[\"MedInc\"].mean()  # Average salary\n",
    "df[\"MedInc\"].min()  # Minimum age"
   ]
  },
  {
   "cell_type": "markdown",
   "metadata": {},
   "source": [
    "We can also aggregate HouseAges together and take their mean. For example, for a HouseAge of 1.0, we get a 'Population' mean of 328.500000"
   ]
  },
  {
   "cell_type": "code",
   "execution_count": 223,
   "metadata": {},
   "outputs": [
    {
     "data": {
      "text/plain": [
       "HouseAge\n",
       "1.0     435.333333\n",
       "2.0    1812.347826\n",
       "3.0    3086.000000\n",
       "4.0    2661.246667\n",
       "5.0    2481.034314\n",
       "Name: Population, dtype: float64"
      ]
     },
     "execution_count": 223,
     "metadata": {},
     "output_type": "execute_result"
    }
   ],
   "source": [
    "df.groupby(\"HouseAge\")[\"Population\"].mean().head(5)  # Average salary per age group"
   ]
  },
  {
   "cell_type": "markdown",
   "metadata": {},
   "source": [
    "Readability of your code and dataframe are very important, some of these column names are not super readable so let's `.rename()` them\n",
    "\n",
    "`columns` key-value pairs that map old column name to new column name\n",
    "\n",
    "`inplace` same as above"
   ]
  },
  {
   "cell_type": "code",
   "execution_count": 224,
   "metadata": {},
   "outputs": [
    {
     "data": {
      "text/html": [
       "<div>\n",
       "<style scoped>\n",
       "    .dataframe tbody tr th:only-of-type {\n",
       "        vertical-align: middle;\n",
       "    }\n",
       "\n",
       "    .dataframe tbody tr th {\n",
       "        vertical-align: top;\n",
       "    }\n",
       "\n",
       "    .dataframe thead th {\n",
       "        text-align: right;\n",
       "    }\n",
       "</style>\n",
       "<table border=\"1\" class=\"dataframe\">\n",
       "  <thead>\n",
       "    <tr style=\"text-align: right;\">\n",
       "      <th></th>\n",
       "      <th>Id</th>\n",
       "      <th>MedianIncome</th>\n",
       "      <th>HouseAge</th>\n",
       "      <th>AveRooms</th>\n",
       "      <th>AveBedrms</th>\n",
       "      <th>Population</th>\n",
       "      <th>AveOccup</th>\n",
       "      <th>Latitude</th>\n",
       "      <th>Longitude</th>\n",
       "      <th>PRICE</th>\n",
       "      <th>MedIncNorm</th>\n",
       "    </tr>\n",
       "  </thead>\n",
       "  <tbody>\n",
       "    <tr>\n",
       "      <th>0</th>\n",
       "      <td>14196</td>\n",
       "      <td>3.2596</td>\n",
       "      <td>33.0</td>\n",
       "      <td>5.017657</td>\n",
       "      <td>1.006421</td>\n",
       "      <td>2300.0</td>\n",
       "      <td>3.691814</td>\n",
       "      <td>32.71</td>\n",
       "      <td>-117.03</td>\n",
       "      <td>1.030</td>\n",
       "      <td>0.190322</td>\n",
       "    </tr>\n",
       "    <tr>\n",
       "      <th>1</th>\n",
       "      <td>8267</td>\n",
       "      <td>3.8125</td>\n",
       "      <td>49.0</td>\n",
       "      <td>4.473545</td>\n",
       "      <td>1.041005</td>\n",
       "      <td>1314.0</td>\n",
       "      <td>1.738095</td>\n",
       "      <td>33.77</td>\n",
       "      <td>-118.16</td>\n",
       "      <td>3.821</td>\n",
       "      <td>0.228452</td>\n",
       "    </tr>\n",
       "    <tr>\n",
       "      <th>2</th>\n",
       "      <td>17445</td>\n",
       "      <td>4.1563</td>\n",
       "      <td>4.0</td>\n",
       "      <td>5.645833</td>\n",
       "      <td>0.985119</td>\n",
       "      <td>915.0</td>\n",
       "      <td>2.723214</td>\n",
       "      <td>34.66</td>\n",
       "      <td>-120.48</td>\n",
       "      <td>1.726</td>\n",
       "      <td>0.252162</td>\n",
       "    </tr>\n",
       "    <tr>\n",
       "      <th>3</th>\n",
       "      <td>14265</td>\n",
       "      <td>1.9425</td>\n",
       "      <td>36.0</td>\n",
       "      <td>4.002817</td>\n",
       "      <td>1.033803</td>\n",
       "      <td>1418.0</td>\n",
       "      <td>3.994366</td>\n",
       "      <td>32.69</td>\n",
       "      <td>-117.11</td>\n",
       "      <td>0.934</td>\n",
       "      <td>0.099488</td>\n",
       "    </tr>\n",
       "    <tr>\n",
       "      <th>4</th>\n",
       "      <td>2271</td>\n",
       "      <td>3.5542</td>\n",
       "      <td>43.0</td>\n",
       "      <td>6.268421</td>\n",
       "      <td>1.134211</td>\n",
       "      <td>874.0</td>\n",
       "      <td>2.300000</td>\n",
       "      <td>36.78</td>\n",
       "      <td>-119.80</td>\n",
       "      <td>0.965</td>\n",
       "      <td>0.210638</td>\n",
       "    </tr>\n",
       "    <tr>\n",
       "      <th>...</th>\n",
       "      <td>...</td>\n",
       "      <td>...</td>\n",
       "      <td>...</td>\n",
       "      <td>...</td>\n",
       "      <td>...</td>\n",
       "      <td>...</td>\n",
       "      <td>...</td>\n",
       "      <td>...</td>\n",
       "      <td>...</td>\n",
       "      <td>...</td>\n",
       "      <td>...</td>\n",
       "    </tr>\n",
       "    <tr>\n",
       "      <th>16507</th>\n",
       "      <td>11284</td>\n",
       "      <td>6.3700</td>\n",
       "      <td>35.0</td>\n",
       "      <td>6.129032</td>\n",
       "      <td>0.926267</td>\n",
       "      <td>658.0</td>\n",
       "      <td>3.032258</td>\n",
       "      <td>33.78</td>\n",
       "      <td>-117.96</td>\n",
       "      <td>2.292</td>\n",
       "      <td>0.404829</td>\n",
       "    </tr>\n",
       "    <tr>\n",
       "      <th>16508</th>\n",
       "      <td>11964</td>\n",
       "      <td>3.0500</td>\n",
       "      <td>33.0</td>\n",
       "      <td>6.868597</td>\n",
       "      <td>1.269488</td>\n",
       "      <td>1753.0</td>\n",
       "      <td>3.904232</td>\n",
       "      <td>34.02</td>\n",
       "      <td>-117.43</td>\n",
       "      <td>0.978</td>\n",
       "      <td>0.175867</td>\n",
       "    </tr>\n",
       "    <tr>\n",
       "      <th>16509</th>\n",
       "      <td>5390</td>\n",
       "      <td>2.9344</td>\n",
       "      <td>36.0</td>\n",
       "      <td>3.986717</td>\n",
       "      <td>1.079696</td>\n",
       "      <td>1756.0</td>\n",
       "      <td>3.332068</td>\n",
       "      <td>34.03</td>\n",
       "      <td>-118.38</td>\n",
       "      <td>2.221</td>\n",
       "      <td>0.167894</td>\n",
       "    </tr>\n",
       "    <tr>\n",
       "      <th>16510</th>\n",
       "      <td>860</td>\n",
       "      <td>5.7192</td>\n",
       "      <td>15.0</td>\n",
       "      <td>6.395349</td>\n",
       "      <td>1.067979</td>\n",
       "      <td>1777.0</td>\n",
       "      <td>3.178891</td>\n",
       "      <td>37.58</td>\n",
       "      <td>-121.96</td>\n",
       "      <td>2.835</td>\n",
       "      <td>0.359947</td>\n",
       "    </tr>\n",
       "    <tr>\n",
       "      <th>16511</th>\n",
       "      <td>15795</td>\n",
       "      <td>2.5755</td>\n",
       "      <td>52.0</td>\n",
       "      <td>3.402576</td>\n",
       "      <td>1.058776</td>\n",
       "      <td>2619.0</td>\n",
       "      <td>2.108696</td>\n",
       "      <td>37.77</td>\n",
       "      <td>-122.42</td>\n",
       "      <td>3.250</td>\n",
       "      <td>0.143143</td>\n",
       "    </tr>\n",
       "  </tbody>\n",
       "</table>\n",
       "<p>16512 rows × 11 columns</p>\n",
       "</div>"
      ],
      "text/plain": [
       "          Id  MedianIncome  HouseAge  AveRooms  AveBedrms  Population  \\\n",
       "0      14196        3.2596      33.0  5.017657   1.006421      2300.0   \n",
       "1       8267        3.8125      49.0  4.473545   1.041005      1314.0   \n",
       "2      17445        4.1563       4.0  5.645833   0.985119       915.0   \n",
       "3      14265        1.9425      36.0  4.002817   1.033803      1418.0   \n",
       "4       2271        3.5542      43.0  6.268421   1.134211       874.0   \n",
       "...      ...           ...       ...       ...        ...         ...   \n",
       "16507  11284        6.3700      35.0  6.129032   0.926267       658.0   \n",
       "16508  11964        3.0500      33.0  6.868597   1.269488      1753.0   \n",
       "16509   5390        2.9344      36.0  3.986717   1.079696      1756.0   \n",
       "16510    860        5.7192      15.0  6.395349   1.067979      1777.0   \n",
       "16511  15795        2.5755      52.0  3.402576   1.058776      2619.0   \n",
       "\n",
       "       AveOccup  Latitude  Longitude  PRICE  MedIncNorm  \n",
       "0      3.691814     32.71    -117.03  1.030    0.190322  \n",
       "1      1.738095     33.77    -118.16  3.821    0.228452  \n",
       "2      2.723214     34.66    -120.48  1.726    0.252162  \n",
       "3      3.994366     32.69    -117.11  0.934    0.099488  \n",
       "4      2.300000     36.78    -119.80  0.965    0.210638  \n",
       "...         ...       ...        ...    ...         ...  \n",
       "16507  3.032258     33.78    -117.96  2.292    0.404829  \n",
       "16508  3.904232     34.02    -117.43  0.978    0.175867  \n",
       "16509  3.332068     34.03    -118.38  2.221    0.167894  \n",
       "16510  3.178891     37.58    -121.96  2.835    0.359947  \n",
       "16511  2.108696     37.77    -122.42  3.250    0.143143  \n",
       "\n",
       "[16512 rows x 11 columns]"
      ]
     },
     "execution_count": 224,
     "metadata": {},
     "output_type": "execute_result"
    }
   ],
   "source": [
    "df.rename(columns={\"MedInc\": \"MedianIncome\"}, inplace=True)\n",
    "df"
   ]
  },
  {
   "cell_type": "markdown",
   "metadata": {},
   "source": [
    "We can also improve readability of code using comment lines to document commands. Highlight any block of code and hit `Cmd + /` to comment all of it. Without highlighting anything, `Cmd + /` will comment the current line you're on. Generally adding a `#` before any line will make it commented.\n",
    "\n",
    "Use any of the above commenting methods to remove the error from below"
   ]
  },
  {
   "cell_type": "code",
   "execution_count": 225,
   "metadata": {},
   "outputs": [
    {
     "name": "stdout",
     "output_type": "stream",
     "text": [
      "shivani\n",
      "christine\n",
      "eric\n",
      "nolan\n",
      "vaarun\n"
     ]
    }
   ],
   "source": [
    "# below I am printing voyager seniors\n",
    "\n",
    "print(\"shivani\")\n",
    "print(\"christine\")\n",
    "print(\"eric\")\n",
    "print(\"nolan\")\n",
    "print(\"vaarun\")"
   ]
  },
  {
   "cell_type": "markdown",
   "metadata": {},
   "source": [
    "#### 2.4: Visualization\n",
    "Presenting your findings and visualizing trends is an essential data science skill. We will use matplotlib.pyplot, which is industry standard for data visualization as it provides a lot of freedom in your visualization."
   ]
  },
  {
   "cell_type": "code",
   "execution_count": 236,
   "metadata": {},
   "outputs": [
    {
     "data": {
      "text/html": [
       "<div>\n",
       "<style scoped>\n",
       "    .dataframe tbody tr th:only-of-type {\n",
       "        vertical-align: middle;\n",
       "    }\n",
       "\n",
       "    .dataframe tbody tr th {\n",
       "        vertical-align: top;\n",
       "    }\n",
       "\n",
       "    .dataframe thead th {\n",
       "        text-align: right;\n",
       "    }\n",
       "</style>\n",
       "<table border=\"1\" class=\"dataframe\">\n",
       "  <thead>\n",
       "    <tr style=\"text-align: right;\">\n",
       "      <th></th>\n",
       "      <th>Id</th>\n",
       "      <th>MedianIncome</th>\n",
       "      <th>HouseAge</th>\n",
       "      <th>AveRooms</th>\n",
       "      <th>AveBedrms</th>\n",
       "      <th>Population</th>\n",
       "      <th>AveOccup</th>\n",
       "      <th>Latitude</th>\n",
       "      <th>Longitude</th>\n",
       "      <th>PRICE</th>\n",
       "      <th>MedIncNorm</th>\n",
       "    </tr>\n",
       "  </thead>\n",
       "  <tbody>\n",
       "    <tr>\n",
       "      <th>0</th>\n",
       "      <td>14196</td>\n",
       "      <td>3.2596</td>\n",
       "      <td>33.0</td>\n",
       "      <td>5.017657</td>\n",
       "      <td>1.006421</td>\n",
       "      <td>2300.0</td>\n",
       "      <td>3.691814</td>\n",
       "      <td>32.71</td>\n",
       "      <td>-117.03</td>\n",
       "      <td>1.030</td>\n",
       "      <td>0.190322</td>\n",
       "    </tr>\n",
       "    <tr>\n",
       "      <th>1</th>\n",
       "      <td>8267</td>\n",
       "      <td>3.8125</td>\n",
       "      <td>49.0</td>\n",
       "      <td>4.473545</td>\n",
       "      <td>1.041005</td>\n",
       "      <td>1314.0</td>\n",
       "      <td>1.738095</td>\n",
       "      <td>33.77</td>\n",
       "      <td>-118.16</td>\n",
       "      <td>3.821</td>\n",
       "      <td>0.228452</td>\n",
       "    </tr>\n",
       "    <tr>\n",
       "      <th>2</th>\n",
       "      <td>17445</td>\n",
       "      <td>4.1563</td>\n",
       "      <td>4.0</td>\n",
       "      <td>5.645833</td>\n",
       "      <td>0.985119</td>\n",
       "      <td>915.0</td>\n",
       "      <td>2.723214</td>\n",
       "      <td>34.66</td>\n",
       "      <td>-120.48</td>\n",
       "      <td>1.726</td>\n",
       "      <td>0.252162</td>\n",
       "    </tr>\n",
       "    <tr>\n",
       "      <th>3</th>\n",
       "      <td>14265</td>\n",
       "      <td>1.9425</td>\n",
       "      <td>36.0</td>\n",
       "      <td>4.002817</td>\n",
       "      <td>1.033803</td>\n",
       "      <td>1418.0</td>\n",
       "      <td>3.994366</td>\n",
       "      <td>32.69</td>\n",
       "      <td>-117.11</td>\n",
       "      <td>0.934</td>\n",
       "      <td>0.099488</td>\n",
       "    </tr>\n",
       "    <tr>\n",
       "      <th>4</th>\n",
       "      <td>2271</td>\n",
       "      <td>3.5542</td>\n",
       "      <td>43.0</td>\n",
       "      <td>6.268421</td>\n",
       "      <td>1.134211</td>\n",
       "      <td>874.0</td>\n",
       "      <td>2.300000</td>\n",
       "      <td>36.78</td>\n",
       "      <td>-119.80</td>\n",
       "      <td>0.965</td>\n",
       "      <td>0.210638</td>\n",
       "    </tr>\n",
       "    <tr>\n",
       "      <th>...</th>\n",
       "      <td>...</td>\n",
       "      <td>...</td>\n",
       "      <td>...</td>\n",
       "      <td>...</td>\n",
       "      <td>...</td>\n",
       "      <td>...</td>\n",
       "      <td>...</td>\n",
       "      <td>...</td>\n",
       "      <td>...</td>\n",
       "      <td>...</td>\n",
       "      <td>...</td>\n",
       "    </tr>\n",
       "    <tr>\n",
       "      <th>16507</th>\n",
       "      <td>11284</td>\n",
       "      <td>6.3700</td>\n",
       "      <td>35.0</td>\n",
       "      <td>6.129032</td>\n",
       "      <td>0.926267</td>\n",
       "      <td>658.0</td>\n",
       "      <td>3.032258</td>\n",
       "      <td>33.78</td>\n",
       "      <td>-117.96</td>\n",
       "      <td>2.292</td>\n",
       "      <td>0.404829</td>\n",
       "    </tr>\n",
       "    <tr>\n",
       "      <th>16508</th>\n",
       "      <td>11964</td>\n",
       "      <td>3.0500</td>\n",
       "      <td>33.0</td>\n",
       "      <td>6.868597</td>\n",
       "      <td>1.269488</td>\n",
       "      <td>1753.0</td>\n",
       "      <td>3.904232</td>\n",
       "      <td>34.02</td>\n",
       "      <td>-117.43</td>\n",
       "      <td>0.978</td>\n",
       "      <td>0.175867</td>\n",
       "    </tr>\n",
       "    <tr>\n",
       "      <th>16509</th>\n",
       "      <td>5390</td>\n",
       "      <td>2.9344</td>\n",
       "      <td>36.0</td>\n",
       "      <td>3.986717</td>\n",
       "      <td>1.079696</td>\n",
       "      <td>1756.0</td>\n",
       "      <td>3.332068</td>\n",
       "      <td>34.03</td>\n",
       "      <td>-118.38</td>\n",
       "      <td>2.221</td>\n",
       "      <td>0.167894</td>\n",
       "    </tr>\n",
       "    <tr>\n",
       "      <th>16510</th>\n",
       "      <td>860</td>\n",
       "      <td>5.7192</td>\n",
       "      <td>15.0</td>\n",
       "      <td>6.395349</td>\n",
       "      <td>1.067979</td>\n",
       "      <td>1777.0</td>\n",
       "      <td>3.178891</td>\n",
       "      <td>37.58</td>\n",
       "      <td>-121.96</td>\n",
       "      <td>2.835</td>\n",
       "      <td>0.359947</td>\n",
       "    </tr>\n",
       "    <tr>\n",
       "      <th>16511</th>\n",
       "      <td>15795</td>\n",
       "      <td>2.5755</td>\n",
       "      <td>52.0</td>\n",
       "      <td>3.402576</td>\n",
       "      <td>1.058776</td>\n",
       "      <td>2619.0</td>\n",
       "      <td>2.108696</td>\n",
       "      <td>37.77</td>\n",
       "      <td>-122.42</td>\n",
       "      <td>3.250</td>\n",
       "      <td>0.143143</td>\n",
       "    </tr>\n",
       "  </tbody>\n",
       "</table>\n",
       "<p>16512 rows × 11 columns</p>\n",
       "</div>"
      ],
      "text/plain": [
       "          Id  MedianIncome  HouseAge  AveRooms  AveBedrms  Population  \\\n",
       "0      14196        3.2596      33.0  5.017657   1.006421      2300.0   \n",
       "1       8267        3.8125      49.0  4.473545   1.041005      1314.0   \n",
       "2      17445        4.1563       4.0  5.645833   0.985119       915.0   \n",
       "3      14265        1.9425      36.0  4.002817   1.033803      1418.0   \n",
       "4       2271        3.5542      43.0  6.268421   1.134211       874.0   \n",
       "...      ...           ...       ...       ...        ...         ...   \n",
       "16507  11284        6.3700      35.0  6.129032   0.926267       658.0   \n",
       "16508  11964        3.0500      33.0  6.868597   1.269488      1753.0   \n",
       "16509   5390        2.9344      36.0  3.986717   1.079696      1756.0   \n",
       "16510    860        5.7192      15.0  6.395349   1.067979      1777.0   \n",
       "16511  15795        2.5755      52.0  3.402576   1.058776      2619.0   \n",
       "\n",
       "       AveOccup  Latitude  Longitude  PRICE  MedIncNorm  \n",
       "0      3.691814     32.71    -117.03  1.030    0.190322  \n",
       "1      1.738095     33.77    -118.16  3.821    0.228452  \n",
       "2      2.723214     34.66    -120.48  1.726    0.252162  \n",
       "3      3.994366     32.69    -117.11  0.934    0.099488  \n",
       "4      2.300000     36.78    -119.80  0.965    0.210638  \n",
       "...         ...       ...        ...    ...         ...  \n",
       "16507  3.032258     33.78    -117.96  2.292    0.404829  \n",
       "16508  3.904232     34.02    -117.43  0.978    0.175867  \n",
       "16509  3.332068     34.03    -118.38  2.221    0.167894  \n",
       "16510  3.178891     37.58    -121.96  2.835    0.359947  \n",
       "16511  2.108696     37.77    -122.42  3.250    0.143143  \n",
       "\n",
       "[16512 rows x 11 columns]"
      ]
     },
     "execution_count": 236,
     "metadata": {},
     "output_type": "execute_result"
    }
   ],
   "source": [
    "df"
   ]
  },
  {
   "cell_type": "code",
   "execution_count": 241,
   "metadata": {},
   "outputs": [],
   "source": [
    "# Honestly i think i am better suited doing this for you guys so you can see how plotting works"
   ]
  },
  {
   "cell_type": "markdown",
   "metadata": {},
   "source": [
    "### Section 3: Basics of Linear Modeling\n",
    "#### 3.1: Building a Linear Model\n",
    "\n",
    "Your objective is to be able to predict a value based on other features by constructing a linear relationship between the features and the predicted value. I've provided you guys with a training set and a testing set, we'll talk about how you can use this  "
   ]
  },
  {
   "cell_type": "code",
   "execution_count": 226,
   "metadata": {},
   "outputs": [],
   "source": [
    "train_df = pd.read_csv(\"train.csv\")\n",
    "test_df = pd.read_csv(\"test.csv\")"
   ]
  },
  {
   "cell_type": "code",
   "execution_count": 227,
   "metadata": {},
   "outputs": [],
   "source": [
    "X_train = train_df.drop(columns=[\"PRICE\", \"Id\"])  # Drop target column\n",
    "y_train = train_df[\"PRICE\"]  # Target variable"
   ]
  },
  {
   "cell_type": "code",
   "execution_count": 228,
   "metadata": {},
   "outputs": [],
   "source": [
    "X_test = test_df"
   ]
  },
  {
   "cell_type": "code",
   "execution_count": 229,
   "metadata": {},
   "outputs": [],
   "source": [
    "model = LinearRegression()\n",
    "model.fit(X_train, y_train)\n",
    "\n",
    "y_train_pred = model.predict(X_train)"
   ]
  },
  {
   "cell_type": "markdown",
   "metadata": {},
   "source": [
    "#### 3.2 Model Evaluation\n",
    "For our purposes, we'll be evaluating on r-squared, the formula of which is provided below. This metric is essentially explaining the proportion of variance the relationship you are modeling accounts for. In simple terms, it is a measure of correlation of our linear model that is normalized between 0 and 1. Closer to 1 means generally more accurate and closer to 0 is less accurate (although if it is 1.0 exactly your model is probably overfitting).\n",
    "\n",
    "$$ \n",
    "R^2 = 1 - \\frac{\\sum_{i=1}^{n} (y_i - \\hat{y}_i)^2}{\\sum_{i=1}^{n} (y_i - \\bar{y})^2}\n",
    "$$"
   ]
  },
  {
   "cell_type": "code",
   "execution_count": 230,
   "metadata": {},
   "outputs": [
    {
     "name": "stdout",
     "output_type": "stream",
     "text": [
      "R-squared: 0.6126\n"
     ]
    }
   ],
   "source": [
    "print(f\"R-squared: {r2_score(y_train, y_train_pred):.4f}\")"
   ]
  },
  {
   "cell_type": "markdown",
   "metadata": {},
   "source": [
    "We can see that the linear regression model only provides an r-squared of 0.61 so ts is some mid. "
   ]
  },
  {
   "cell_type": "markdown",
   "metadata": {},
   "source": [
    "In terms of evaluating your model, you can use this helper method I have below"
   ]
  },
  {
   "cell_type": "code",
   "execution_count": 231,
   "metadata": {},
   "outputs": [],
   "source": [
    "def generate_submission_file(model, test_features, name, submission_number):\n",
    "\n",
    "    ids = test_features[\"Id\"].astype(str) \n",
    "    test_features = test_features.drop(columns=[\"Id\"])  # drop 'Id' for prediction\n",
    "\n",
    "    X_test = test_features[X_train.columns]\n",
    "    y_pred = model.predict(X_test)\n",
    "\n",
    "    submission = pd.DataFrame({\n",
    "        \"Id\": ids,  \n",
    "        \"Predicted\": y_pred \n",
    "    })\n",
    "\n",
    "    filename = f\"{name}_{submission_number}.csv\"\n",
    "    submission.to_csv(filename, index=False)\n",
    "\n",
    "    return filename\n"
   ]
  },
  {
   "cell_type": "code",
   "execution_count": 232,
   "metadata": {},
   "outputs": [
    {
     "data": {
      "text/plain": [
       "'Rahil_1.csv'"
      ]
     },
     "execution_count": 232,
     "metadata": {},
     "output_type": "execute_result"
    }
   ],
   "source": [
    "test_features = pd.read_csv(\"test.csv\")\n",
    "generate_submission_file(model=model, test_features=test_features, name=\"Rahil\", submission_number=1) # update your submisssion number\n"
   ]
  },
  {
   "cell_type": "markdown",
   "metadata": {},
   "source": [
    "### Submissions & Deliverables"
   ]
  },
  {
   "cell_type": "markdown",
   "metadata": {},
   "source": [
    "Now that you have your submission csv which should populate in your file directory after you run the above cell, see how your results compare with the rest of the PDM kaggle competition:\n",
    "\n",
    "1. Go to the below link:\n",
    "\n",
    "https://www.kaggle.com/competitions/pdm-linear-modeling-comp/code\n",
    "\n",
    "2. Click 'Submit Predictions'\n",
    "\n",
    "3. Then click 'Upload Submission'\n",
    "\n",
    "4. Click 'Submit'\n",
    "\n",
    "5. Check the 'Leaderboard' and see how your results compare!\n",
    "\n",
    "6. Submit as many submissions as you want, you should be able to achieve > 0.90 r2 on this dataset (try using random forest regression instead of linear regression, hyperparam tuning, feature engineering)"
   ]
  },
  {
   "cell_type": "code",
   "execution_count": 233,
   "metadata": {},
   "outputs": [],
   "source": [
    "#TODO: Build a linear model and submit your csv on kaggle "
   ]
  },
  {
   "cell_type": "code",
   "execution_count": null,
   "metadata": {},
   "outputs": [],
   "source": []
  }
 ],
 "metadata": {
  "kernelspec": {
   "display_name": "pdmdata",
   "language": "python",
   "name": "python3"
  },
  "language_info": {
   "codemirror_mode": {
    "name": "ipython",
    "version": 3
   },
   "file_extension": ".py",
   "mimetype": "text/x-python",
   "name": "python",
   "nbconvert_exporter": "python",
   "pygments_lexer": "ipython3",
   "version": "3.13.2"
  }
 },
 "nbformat": 4,
 "nbformat_minor": 2
}
